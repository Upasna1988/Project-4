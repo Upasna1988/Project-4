{
 "cells": [
  {
   "cell_type": "markdown",
   "id": "d3d5356e",
   "metadata": {},
   "source": [
    "# DOMAIN: Smartphone, Electronics"
   ]
  },
  {
   "cell_type": "markdown",
   "id": "9b5ad3ea",
   "metadata": {},
   "source": [
    "# CONTEXT: \n",
    "        India is the second largest market globally for smartphones after China. About 134 million smartphones were sold across India in the year 2017 and is estimated to increase to about 442 million in 2022. India ranked second in the average time spent on mobile web by smartphone users across Asia Pacific. The combination of very high sales volumes and the average smartphone consumer behaviour has made India a very attractive market for foreign vendors. As per Consumer behaviour, 97% of consumers turn to a search engine when they are buying a product vs. 15% who turn to social media. If a seller succeeds to publish smartphones based on user’s behaviour/choice at the right place, there are 90% chances that user will enquire for the same. This Case Study is targeted to build a recommendation system based on individual consumer’s behaviour or choice."
   ]
  },
  {
   "cell_type": "markdown",
   "id": "73f4fe32",
   "metadata": {},
   "source": [
    "# DATA DESCRIPTION: \n",
    "    • author : name of the person who gave the rating\n",
    "    • country : country the person who gave the rating belongs to\n",
    "    • data : date of the rating\n",
    "    • domain: website from which the rating was taken from\n",
    "    • extract: rating content\n",
    "    • language: language in which the rating was given\n",
    "    • product: name of the product/mobile phone for which the rating was given\n",
    "    • score: average rating for the phone\n",
    "    • score_max: highest rating given for the phone\n",
    "    • source: source from where the rating was taken"
   ]
  },
  {
   "cell_type": "markdown",
   "id": "27810f70",
   "metadata": {},
   "source": [
    "# PROJECT OBJECTIVE:\n",
    "    We will build a recommendation system using popularity based and collaborative filtering methods to recommend \n",
    "    mobile phones to a user which are most popular and personalised respectively"
   ]
  },
  {
   "cell_type": "markdown",
   "id": "c3858c8d",
   "metadata": {},
   "source": [
    "# 1. Import the necessary libraries and read the provided CSVs as a data frame and perform the below steps. \n",
    "    A. Merge all the provided CSVs into one data-frame. \n",
    "    B. Explore, understand the Data and share at least 2 observations. \n",
    "    C. Round off scores to the nearest integers. \n",
    "    D. Check for missing values. Impute the missing values, if any. \n",
    "    E. Check for duplicate values and remove them, if any. \n",
    "    F. Keep only 1 Million data samples. Use random state=612. \n",
    "    G. Drop irrelevant features. Keep features like Author, Product, and Score. "
   ]
  },
  {
   "cell_type": "code",
   "execution_count": 1,
   "id": "b04b2ac6",
   "metadata": {},
   "outputs": [],
   "source": [
    "#Importing Libraries and Data Warehousing\n",
    "import pandas as pd\n",
    "import numpy as np\n",
    "import seaborn as sns\n",
    "from surprise import Dataset,Reader\n",
    "from surprise.model_selection import cross_validate\n",
    "from surprise import NormalPredictor\n",
    "from surprise import SVD, KNNWithMeans\n",
    "from surprise import accuracy\n",
    "from surprise.model_selection import train_test_split\n",
    "from surprise.model_selection import GridSearchCV\n",
    "import matplotlib.pyplot as plt\n",
    "import os\n",
    "import glob\n",
    "from sklearn.preprocessing import LabelEncoder\n",
    "from zipfile import ZipFile\n",
    "from IPython.core.interactiveshell import InteractiveShell\n",
    "InteractiveShell.ast_node_interactivity = \"all\"\n",
    "import math\n",
    "import json\n",
    "import time\n",
    "# import sklearn.external.joblib as extjoblib\n",
    "import joblib\n",
    "from sklearn.metrics.pairwise import cosine_similarity\n",
    "from sklearn.neighbors import NearestNeighbors\n",
    "# from sklearn.externals import joblib\n",
    "import scipy.sparse\n",
    "from scipy.sparse import csr_matrix\n",
    "from scipy.sparse.linalg import svds\n",
    "\n",
    "from sklearn.feature_extraction.text import TfidfVectorizer, CountVectorizer\n",
    "from sklearn.metrics.pairwise import linear_kernel, cosine_similarity\n",
    "from surprise.model_selection import KFold\n",
    "\n",
    "# filterwarnings to ignore all unnecessary warnings and logs\n",
    "import warnings\n",
    "warnings.filterwarnings('ignore')\n"
   ]
  },
  {
   "cell_type": "code",
   "execution_count": 2,
   "id": "97da3c6b",
   "metadata": {},
   "outputs": [
    {
     "data": {
      "text/html": [
       "<div>\n",
       "<style scoped>\n",
       "    .dataframe tbody tr th:only-of-type {\n",
       "        vertical-align: middle;\n",
       "    }\n",
       "\n",
       "    .dataframe tbody tr th {\n",
       "        vertical-align: top;\n",
       "    }\n",
       "\n",
       "    .dataframe thead th {\n",
       "        text-align: right;\n",
       "    }\n",
       "</style>\n",
       "<table border=\"1\" class=\"dataframe\">\n",
       "  <thead>\n",
       "    <tr style=\"text-align: right;\">\n",
       "      <th></th>\n",
       "      <th>phone_url</th>\n",
       "      <th>date</th>\n",
       "      <th>lang</th>\n",
       "      <th>country</th>\n",
       "      <th>source</th>\n",
       "      <th>domain</th>\n",
       "      <th>score</th>\n",
       "      <th>score_max</th>\n",
       "      <th>extract</th>\n",
       "      <th>author</th>\n",
       "      <th>product</th>\n",
       "    </tr>\n",
       "  </thead>\n",
       "  <tbody>\n",
       "    <tr>\n",
       "      <th>0</th>\n",
       "      <td>/cellphones/samsung-galaxy-s8/</td>\n",
       "      <td>5/2/2017</td>\n",
       "      <td>en</td>\n",
       "      <td>us</td>\n",
       "      <td>Verizon Wireless</td>\n",
       "      <td>verizonwireless.com</td>\n",
       "      <td>10.0</td>\n",
       "      <td>10.0</td>\n",
       "      <td>As a diehard Samsung fan who has had every Sam...</td>\n",
       "      <td>CarolAnn35</td>\n",
       "      <td>Samsung Galaxy S8</td>\n",
       "    </tr>\n",
       "    <tr>\n",
       "      <th>1</th>\n",
       "      <td>/cellphones/samsung-galaxy-s8/</td>\n",
       "      <td>4/28/2017</td>\n",
       "      <td>en</td>\n",
       "      <td>us</td>\n",
       "      <td>Phone Arena</td>\n",
       "      <td>phonearena.com</td>\n",
       "      <td>10.0</td>\n",
       "      <td>10.0</td>\n",
       "      <td>Love the phone. the phone is sleek and smooth ...</td>\n",
       "      <td>james0923</td>\n",
       "      <td>Samsung Galaxy S8</td>\n",
       "    </tr>\n",
       "    <tr>\n",
       "      <th>2</th>\n",
       "      <td>/cellphones/samsung-galaxy-s8/</td>\n",
       "      <td>5/4/2017</td>\n",
       "      <td>en</td>\n",
       "      <td>us</td>\n",
       "      <td>Amazon</td>\n",
       "      <td>amazon.com</td>\n",
       "      <td>6.0</td>\n",
       "      <td>10.0</td>\n",
       "      <td>Adequate feel. Nice heft. Processor's still sl...</td>\n",
       "      <td>R. Craig</td>\n",
       "      <td>Samsung Galaxy S8 (64GB) G950U 5.8\" 4G LTE Unl...</td>\n",
       "    </tr>\n",
       "    <tr>\n",
       "      <th>3</th>\n",
       "      <td>/cellphones/samsung-galaxy-s8/</td>\n",
       "      <td>5/2/2017</td>\n",
       "      <td>en</td>\n",
       "      <td>us</td>\n",
       "      <td>Samsung</td>\n",
       "      <td>samsung.com</td>\n",
       "      <td>9.2</td>\n",
       "      <td>10.0</td>\n",
       "      <td>Never disappointed. One of the reasons I've be...</td>\n",
       "      <td>Buster2020</td>\n",
       "      <td>Samsung Galaxy S8 64GB (AT&amp;T)</td>\n",
       "    </tr>\n",
       "    <tr>\n",
       "      <th>4</th>\n",
       "      <td>/cellphones/samsung-galaxy-s8/</td>\n",
       "      <td>5/11/2017</td>\n",
       "      <td>en</td>\n",
       "      <td>us</td>\n",
       "      <td>Verizon Wireless</td>\n",
       "      <td>verizonwireless.com</td>\n",
       "      <td>4.0</td>\n",
       "      <td>10.0</td>\n",
       "      <td>I've now found that i'm in a group of people t...</td>\n",
       "      <td>S Ate Mine</td>\n",
       "      <td>Samsung Galaxy S8</td>\n",
       "    </tr>\n",
       "  </tbody>\n",
       "</table>\n",
       "</div>"
      ],
      "text/plain": [
       "                        phone_url       date lang country            source  \\\n",
       "0  /cellphones/samsung-galaxy-s8/   5/2/2017   en      us  Verizon Wireless   \n",
       "1  /cellphones/samsung-galaxy-s8/  4/28/2017   en      us       Phone Arena   \n",
       "2  /cellphones/samsung-galaxy-s8/   5/4/2017   en      us            Amazon   \n",
       "3  /cellphones/samsung-galaxy-s8/   5/2/2017   en      us           Samsung   \n",
       "4  /cellphones/samsung-galaxy-s8/  5/11/2017   en      us  Verizon Wireless   \n",
       "\n",
       "                domain  score  score_max  \\\n",
       "0  verizonwireless.com   10.0       10.0   \n",
       "1       phonearena.com   10.0       10.0   \n",
       "2           amazon.com    6.0       10.0   \n",
       "3          samsung.com    9.2       10.0   \n",
       "4  verizonwireless.com    4.0       10.0   \n",
       "\n",
       "                                             extract       author  \\\n",
       "0  As a diehard Samsung fan who has had every Sam...   CarolAnn35   \n",
       "1  Love the phone. the phone is sleek and smooth ...    james0923   \n",
       "2  Adequate feel. Nice heft. Processor's still sl...     R. Craig   \n",
       "3  Never disappointed. One of the reasons I've be...  Buster2020    \n",
       "4  I've now found that i'm in a group of people t...   S Ate Mine   \n",
       "\n",
       "                                             product  \n",
       "0                                  Samsung Galaxy S8  \n",
       "1                                  Samsung Galaxy S8  \n",
       "2  Samsung Galaxy S8 (64GB) G950U 5.8\" 4G LTE Unl...  \n",
       "3                      Samsung Galaxy S8 64GB (AT&T)  \n",
       "4                                  Samsung Galaxy S8  "
      ]
     },
     "execution_count": 2,
     "metadata": {},
     "output_type": "execute_result"
    }
   ],
   "source": [
    "d1 = pd.read_csv('phone_user_review_file_1.csv',encoding=\"latin-1\")\n",
    "d1.head()"
   ]
  },
  {
   "cell_type": "markdown",
   "id": "1d6d8f75",
   "metadata": {},
   "source": [
    "# Observation:-\n",
    "\n",
    "        All product are purchages to us country.\n",
    "        score_max is equal.\n",
    "        "
   ]
  },
  {
   "cell_type": "code",
   "execution_count": 3,
   "id": "0a53cd68",
   "metadata": {},
   "outputs": [
    {
     "name": "stdout",
     "output_type": "stream",
     "text": [
      "<class 'pandas.core.frame.DataFrame'>\n",
      "RangeIndex: 374910 entries, 0 to 374909\n",
      "Data columns (total 11 columns):\n",
      " #   Column     Non-Null Count   Dtype  \n",
      "---  ------     --------------   -----  \n",
      " 0   phone_url  374910 non-null  object \n",
      " 1   date       374910 non-null  object \n",
      " 2   lang       374910 non-null  object \n",
      " 3   country    374910 non-null  object \n",
      " 4   source     374910 non-null  object \n",
      " 5   domain     374910 non-null  object \n",
      " 6   score      366691 non-null  float64\n",
      " 7   score_max  366691 non-null  float64\n",
      " 8   extract    371934 non-null  object \n",
      " 9   author     371641 non-null  object \n",
      " 10  product    374910 non-null  object \n",
      "dtypes: float64(2), object(9)\n",
      "memory usage: 31.5+ MB\n"
     ]
    }
   ],
   "source": [
    "d1.info()"
   ]
  },
  {
   "cell_type": "markdown",
   "id": "b6b61cf5",
   "metadata": {},
   "source": [
    "# Observation:-\n",
    "\n",
    "        All data is objects type but score and score_max is floating data type . \n",
    "        seems the null values in the score and scre_max and number of null values is same.\n",
    "        There are 374910 rows and 11 colums"
   ]
  },
  {
   "cell_type": "code",
   "execution_count": 4,
   "id": "c1b24cd7",
   "metadata": {},
   "outputs": [
    {
     "data": {
      "text/html": [
       "<div>\n",
       "<style scoped>\n",
       "    .dataframe tbody tr th:only-of-type {\n",
       "        vertical-align: middle;\n",
       "    }\n",
       "\n",
       "    .dataframe tbody tr th {\n",
       "        vertical-align: top;\n",
       "    }\n",
       "\n",
       "    .dataframe thead th {\n",
       "        text-align: right;\n",
       "    }\n",
       "</style>\n",
       "<table border=\"1\" class=\"dataframe\">\n",
       "  <thead>\n",
       "    <tr style=\"text-align: right;\">\n",
       "      <th></th>\n",
       "      <th>phone_url</th>\n",
       "      <th>date</th>\n",
       "      <th>lang</th>\n",
       "      <th>country</th>\n",
       "      <th>source</th>\n",
       "      <th>domain</th>\n",
       "      <th>score</th>\n",
       "      <th>score_max</th>\n",
       "      <th>extract</th>\n",
       "      <th>author</th>\n",
       "      <th>product</th>\n",
       "    </tr>\n",
       "  </thead>\n",
       "  <tbody>\n",
       "    <tr>\n",
       "      <th>0</th>\n",
       "      <td>/cellphones/leagoo-lead-7/</td>\n",
       "      <td>4/15/2015</td>\n",
       "      <td>en</td>\n",
       "      <td>us</td>\n",
       "      <td>Amazon</td>\n",
       "      <td>amazon.com</td>\n",
       "      <td>2.0</td>\n",
       "      <td>10.0</td>\n",
       "      <td>The telephone headset is of poor quality , not...</td>\n",
       "      <td>luis</td>\n",
       "      <td>Leagoo Lead7 5.0 Inch HD JDI LTPS Screen 3G Sm...</td>\n",
       "    </tr>\n",
       "    <tr>\n",
       "      <th>1</th>\n",
       "      <td>/cellphones/leagoo-lead-7/</td>\n",
       "      <td>5/23/2015</td>\n",
       "      <td>en</td>\n",
       "      <td>gb</td>\n",
       "      <td>Amazon</td>\n",
       "      <td>amazon.co.uk</td>\n",
       "      <td>10.0</td>\n",
       "      <td>10.0</td>\n",
       "      <td>This is my first smartphone so I have nothing ...</td>\n",
       "      <td>Mark Lavin</td>\n",
       "      <td>Leagoo Lead 7 Lead7 MTK6582 Quad core 1GB RAM ...</td>\n",
       "    </tr>\n",
       "    <tr>\n",
       "      <th>2</th>\n",
       "      <td>/cellphones/leagoo-lead-7/</td>\n",
       "      <td>4/27/2015</td>\n",
       "      <td>en</td>\n",
       "      <td>gb</td>\n",
       "      <td>Amazon</td>\n",
       "      <td>amazon.co.uk</td>\n",
       "      <td>8.0</td>\n",
       "      <td>10.0</td>\n",
       "      <td>Great phone. Battery life not great but seems ...</td>\n",
       "      <td>tracey</td>\n",
       "      <td>Leagoo Lead 7 Lead7 MTK6582 Quad core 1GB RAM ...</td>\n",
       "    </tr>\n",
       "    <tr>\n",
       "      <th>3</th>\n",
       "      <td>/cellphones/leagoo-lead-7/</td>\n",
       "      <td>4/22/2015</td>\n",
       "      <td>en</td>\n",
       "      <td>gb</td>\n",
       "      <td>Amazon</td>\n",
       "      <td>amazon.co.uk</td>\n",
       "      <td>10.0</td>\n",
       "      <td>10.0</td>\n",
       "      <td>Best 90 quid I've ever spent on a smart phone</td>\n",
       "      <td>Reuben Ingram</td>\n",
       "      <td>Leagoo Lead 7 Lead7 MTK6582 Quad core 1GB RAM ...</td>\n",
       "    </tr>\n",
       "    <tr>\n",
       "      <th>4</th>\n",
       "      <td>/cellphones/leagoo-lead-7/</td>\n",
       "      <td>4/18/2015</td>\n",
       "      <td>en</td>\n",
       "      <td>gb</td>\n",
       "      <td>Amazon</td>\n",
       "      <td>amazon.co.uk</td>\n",
       "      <td>10.0</td>\n",
       "      <td>10.0</td>\n",
       "      <td>I m happy with this phone.it s very good.thx team</td>\n",
       "      <td>viorel</td>\n",
       "      <td>Leagoo Lead 7 Lead7 MTK6582 Quad core 1GB RAM ...</td>\n",
       "    </tr>\n",
       "  </tbody>\n",
       "</table>\n",
       "</div>"
      ],
      "text/plain": [
       "                    phone_url       date lang country  source        domain  \\\n",
       "0  /cellphones/leagoo-lead-7/  4/15/2015   en      us  Amazon    amazon.com   \n",
       "1  /cellphones/leagoo-lead-7/  5/23/2015   en      gb  Amazon  amazon.co.uk   \n",
       "2  /cellphones/leagoo-lead-7/  4/27/2015   en      gb  Amazon  amazon.co.uk   \n",
       "3  /cellphones/leagoo-lead-7/  4/22/2015   en      gb  Amazon  amazon.co.uk   \n",
       "4  /cellphones/leagoo-lead-7/  4/18/2015   en      gb  Amazon  amazon.co.uk   \n",
       "\n",
       "   score  score_max                                            extract  \\\n",
       "0    2.0       10.0  The telephone headset is of poor quality , not...   \n",
       "1   10.0       10.0  This is my first smartphone so I have nothing ...   \n",
       "2    8.0       10.0  Great phone. Battery life not great but seems ...   \n",
       "3   10.0       10.0      Best 90 quid I've ever spent on a smart phone   \n",
       "4   10.0       10.0  I m happy with this phone.it s very good.thx team   \n",
       "\n",
       "          author                                            product  \n",
       "0           luis  Leagoo Lead7 5.0 Inch HD JDI LTPS Screen 3G Sm...  \n",
       "1     Mark Lavin  Leagoo Lead 7 Lead7 MTK6582 Quad core 1GB RAM ...  \n",
       "2         tracey  Leagoo Lead 7 Lead7 MTK6582 Quad core 1GB RAM ...  \n",
       "3  Reuben Ingram  Leagoo Lead 7 Lead7 MTK6582 Quad core 1GB RAM ...  \n",
       "4         viorel  Leagoo Lead 7 Lead7 MTK6582 Quad core 1GB RAM ...  "
      ]
     },
     "execution_count": 4,
     "metadata": {},
     "output_type": "execute_result"
    }
   ],
   "source": [
    "d2 = pd.read_csv('phone_user_review_file_2.csv',encoding=\"latin-1\")\n",
    "d2.head()"
   ]
  },
  {
   "cell_type": "code",
   "execution_count": 5,
   "id": "4da3b0e3",
   "metadata": {},
   "outputs": [
    {
     "name": "stdout",
     "output_type": "stream",
     "text": [
      "<class 'pandas.core.frame.DataFrame'>\n",
      "RangeIndex: 114925 entries, 0 to 114924\n",
      "Data columns (total 11 columns):\n",
      " #   Column     Non-Null Count   Dtype  \n",
      "---  ------     --------------   -----  \n",
      " 0   phone_url  114925 non-null  object \n",
      " 1   date       114925 non-null  object \n",
      " 2   lang       114925 non-null  object \n",
      " 3   country    114925 non-null  object \n",
      " 4   source     114925 non-null  object \n",
      " 5   domain     114925 non-null  object \n",
      " 6   score      112166 non-null  float64\n",
      " 7   score_max  112166 non-null  float64\n",
      " 8   extract    113965 non-null  object \n",
      " 9   author     113290 non-null  object \n",
      " 10  product    114925 non-null  object \n",
      "dtypes: float64(2), object(9)\n",
      "memory usage: 9.6+ MB\n"
     ]
    }
   ],
   "source": [
    "d2.info()"
   ]
  },
  {
   "cell_type": "markdown",
   "id": "15fc3792",
   "metadata": {},
   "source": [
    "# Observation:-\n",
    "\n",
    "        All data is objects type but score and score_max is floating data type . \n",
    "        seems the null values in the score and scre_max and number of null values is same.\n",
    "        There are 114925 rows and 11 colums"
   ]
  },
  {
   "cell_type": "code",
   "execution_count": 6,
   "id": "f6f23a0c",
   "metadata": {},
   "outputs": [
    {
     "data": {
      "text/html": [
       "<div>\n",
       "<style scoped>\n",
       "    .dataframe tbody tr th:only-of-type {\n",
       "        vertical-align: middle;\n",
       "    }\n",
       "\n",
       "    .dataframe tbody tr th {\n",
       "        vertical-align: top;\n",
       "    }\n",
       "\n",
       "    .dataframe thead th {\n",
       "        text-align: right;\n",
       "    }\n",
       "</style>\n",
       "<table border=\"1\" class=\"dataframe\">\n",
       "  <thead>\n",
       "    <tr style=\"text-align: right;\">\n",
       "      <th></th>\n",
       "      <th>phone_url</th>\n",
       "      <th>date</th>\n",
       "      <th>lang</th>\n",
       "      <th>country</th>\n",
       "      <th>source</th>\n",
       "      <th>domain</th>\n",
       "      <th>score</th>\n",
       "      <th>score_max</th>\n",
       "      <th>extract</th>\n",
       "      <th>author</th>\n",
       "      <th>product</th>\n",
       "    </tr>\n",
       "  </thead>\n",
       "  <tbody>\n",
       "    <tr>\n",
       "      <th>0</th>\n",
       "      <td>/cellphones/samsung-galaxy-s-iii-slim-sm-g3812/</td>\n",
       "      <td>11/7/2015</td>\n",
       "      <td>pt</td>\n",
       "      <td>br</td>\n",
       "      <td>Submarino</td>\n",
       "      <td>submarino.com.br</td>\n",
       "      <td>6.0</td>\n",
       "      <td>10.0</td>\n",
       "      <td>recomendo, eu comprei um, a um ano, e agora co...</td>\n",
       "      <td>herlington tesch</td>\n",
       "      <td>Samsung Smartphone Samsung Galaxy S3 Slim G381...</td>\n",
       "    </tr>\n",
       "    <tr>\n",
       "      <th>1</th>\n",
       "      <td>/cellphones/samsung-galaxy-s-iii-slim-sm-g3812/</td>\n",
       "      <td>10/2/2015</td>\n",
       "      <td>pt</td>\n",
       "      <td>br</td>\n",
       "      <td>Submarino</td>\n",
       "      <td>submarino.com.br</td>\n",
       "      <td>10.0</td>\n",
       "      <td>10.0</td>\n",
       "      <td>Comprei um pouco desconfiada do site e do celu...</td>\n",
       "      <td>Luisa Silva Marieta</td>\n",
       "      <td>Samsung Smartphone Samsung Galaxy S3 Slim G381...</td>\n",
       "    </tr>\n",
       "    <tr>\n",
       "      <th>2</th>\n",
       "      <td>/cellphones/samsung-galaxy-s-iii-slim-sm-g3812/</td>\n",
       "      <td>9/2/2015</td>\n",
       "      <td>pt</td>\n",
       "      <td>br</td>\n",
       "      <td>Submarino</td>\n",
       "      <td>submarino.com.br</td>\n",
       "      <td>10.0</td>\n",
       "      <td>10.0</td>\n",
       "      <td>Muito bom o produto, obvio que tem versÃµes me...</td>\n",
       "      <td>Cyrus</td>\n",
       "      <td>Samsung Smartphone Samsung Galaxy S3 Slim G381...</td>\n",
       "    </tr>\n",
       "    <tr>\n",
       "      <th>3</th>\n",
       "      <td>/cellphones/samsung-galaxy-s-iii-slim-sm-g3812/</td>\n",
       "      <td>9/2/2015</td>\n",
       "      <td>pt</td>\n",
       "      <td>br</td>\n",
       "      <td>Submarino</td>\n",
       "      <td>submarino.com.br</td>\n",
       "      <td>8.0</td>\n",
       "      <td>10.0</td>\n",
       "      <td>Unica ressalva fica para a camera que poderia ...</td>\n",
       "      <td>Marcela Santa Clara Brito</td>\n",
       "      <td>Samsung Smartphone Samsung Galaxy S3 Slim G381...</td>\n",
       "    </tr>\n",
       "    <tr>\n",
       "      <th>4</th>\n",
       "      <td>/cellphones/samsung-galaxy-s-iii-slim-sm-g3812/</td>\n",
       "      <td>9/1/2015</td>\n",
       "      <td>pt</td>\n",
       "      <td>br</td>\n",
       "      <td>Colombo</td>\n",
       "      <td>colombo.com.br</td>\n",
       "      <td>8.0</td>\n",
       "      <td>10.0</td>\n",
       "      <td>Rapidez e atenÃ§Ã£o na entrega. O aparelho Ã© ...</td>\n",
       "      <td>Claudine Maria Kuhn Walendorff</td>\n",
       "      <td>Smartphone Samsung Galaxy S3 Slim, Dual Chip, ...</td>\n",
       "    </tr>\n",
       "  </tbody>\n",
       "</table>\n",
       "</div>"
      ],
      "text/plain": [
       "                                         phone_url       date lang country  \\\n",
       "0  /cellphones/samsung-galaxy-s-iii-slim-sm-g3812/  11/7/2015   pt      br   \n",
       "1  /cellphones/samsung-galaxy-s-iii-slim-sm-g3812/  10/2/2015   pt      br   \n",
       "2  /cellphones/samsung-galaxy-s-iii-slim-sm-g3812/   9/2/2015   pt      br   \n",
       "3  /cellphones/samsung-galaxy-s-iii-slim-sm-g3812/   9/2/2015   pt      br   \n",
       "4  /cellphones/samsung-galaxy-s-iii-slim-sm-g3812/   9/1/2015   pt      br   \n",
       "\n",
       "      source            domain  score  score_max  \\\n",
       "0  Submarino  submarino.com.br    6.0       10.0   \n",
       "1  Submarino  submarino.com.br   10.0       10.0   \n",
       "2  Submarino  submarino.com.br   10.0       10.0   \n",
       "3  Submarino  submarino.com.br    8.0       10.0   \n",
       "4    Colombo    colombo.com.br    8.0       10.0   \n",
       "\n",
       "                                             extract  \\\n",
       "0  recomendo, eu comprei um, a um ano, e agora co...   \n",
       "1  Comprei um pouco desconfiada do site e do celu...   \n",
       "2  Muito bom o produto, obvio que tem versÃµes me...   \n",
       "3  Unica ressalva fica para a camera que poderia ...   \n",
       "4  Rapidez e atenÃ§Ã£o na entrega. O aparelho Ã© ...   \n",
       "\n",
       "                           author  \\\n",
       "0                herlington tesch   \n",
       "1             Luisa Silva Marieta   \n",
       "2                           Cyrus   \n",
       "3       Marcela Santa Clara Brito   \n",
       "4  Claudine Maria Kuhn Walendorff   \n",
       "\n",
       "                                             product  \n",
       "0  Samsung Smartphone Samsung Galaxy S3 Slim G381...  \n",
       "1  Samsung Smartphone Samsung Galaxy S3 Slim G381...  \n",
       "2  Samsung Smartphone Samsung Galaxy S3 Slim G381...  \n",
       "3  Samsung Smartphone Samsung Galaxy S3 Slim G381...  \n",
       "4  Smartphone Samsung Galaxy S3 Slim, Dual Chip, ...  "
      ]
     },
     "execution_count": 6,
     "metadata": {},
     "output_type": "execute_result"
    }
   ],
   "source": [
    "d3 = pd.read_csv('phone_user_review_file_3.csv',encoding=\"latin-1\")\n",
    "d3.head()"
   ]
  },
  {
   "cell_type": "code",
   "execution_count": 7,
   "id": "e589efa4",
   "metadata": {},
   "outputs": [
    {
     "name": "stdout",
     "output_type": "stream",
     "text": [
      "<class 'pandas.core.frame.DataFrame'>\n",
      "RangeIndex: 312961 entries, 0 to 312960\n",
      "Data columns (total 11 columns):\n",
      " #   Column     Non-Null Count   Dtype  \n",
      "---  ------     --------------   -----  \n",
      " 0   phone_url  312961 non-null  object \n",
      " 1   date       312961 non-null  object \n",
      " 2   lang       312961 non-null  object \n",
      " 3   country    312961 non-null  object \n",
      " 4   source     312961 non-null  object \n",
      " 5   domain     312961 non-null  object \n",
      " 6   score      304933 non-null  float64\n",
      " 7   score_max  304933 non-null  float64\n",
      " 8   extract    310231 non-null  object \n",
      " 9   author     302173 non-null  object \n",
      " 10  product    312960 non-null  object \n",
      "dtypes: float64(2), object(9)\n",
      "memory usage: 26.3+ MB\n"
     ]
    }
   ],
   "source": [
    "d3.info()"
   ]
  },
  {
   "cell_type": "markdown",
   "id": "40a052a1",
   "metadata": {},
   "source": [
    "# Observation:-\n",
    "\n",
    "        All data is objects type but score and score_max is floating data type . \n",
    "        seems the null values in the score and scre_max and number of null values is same.\n",
    "        seems the null values in extract and author .\n",
    "        There are 312961 rows and 11 colums"
   ]
  },
  {
   "cell_type": "code",
   "execution_count": 8,
   "id": "8b3e5919",
   "metadata": {},
   "outputs": [
    {
     "data": {
      "text/html": [
       "<div>\n",
       "<style scoped>\n",
       "    .dataframe tbody tr th:only-of-type {\n",
       "        vertical-align: middle;\n",
       "    }\n",
       "\n",
       "    .dataframe tbody tr th {\n",
       "        vertical-align: top;\n",
       "    }\n",
       "\n",
       "    .dataframe thead th {\n",
       "        text-align: right;\n",
       "    }\n",
       "</style>\n",
       "<table border=\"1\" class=\"dataframe\">\n",
       "  <thead>\n",
       "    <tr style=\"text-align: right;\">\n",
       "      <th></th>\n",
       "      <th>phone_url</th>\n",
       "      <th>date</th>\n",
       "      <th>lang</th>\n",
       "      <th>country</th>\n",
       "      <th>source</th>\n",
       "      <th>domain</th>\n",
       "      <th>score</th>\n",
       "      <th>score_max</th>\n",
       "      <th>extract</th>\n",
       "      <th>author</th>\n",
       "      <th>product</th>\n",
       "    </tr>\n",
       "  </thead>\n",
       "  <tbody>\n",
       "    <tr>\n",
       "      <th>0</th>\n",
       "      <td>/cellphones/samsung-s7262-duos-galaxy-ace/</td>\n",
       "      <td>3/11/2015</td>\n",
       "      <td>en</td>\n",
       "      <td>us</td>\n",
       "      <td>Amazon</td>\n",
       "      <td>amazon.com</td>\n",
       "      <td>2.0</td>\n",
       "      <td>10.0</td>\n",
       "      <td>was not conpatable with my phone as stated. I ...</td>\n",
       "      <td>Frances DeSimone</td>\n",
       "      <td>Samsung Galaxy Star Pro DUOS S7262 Unlocked Ce...</td>\n",
       "    </tr>\n",
       "    <tr>\n",
       "      <th>1</th>\n",
       "      <td>/cellphones/samsung-s7262-duos-galaxy-ace/</td>\n",
       "      <td>17/11/2015</td>\n",
       "      <td>en</td>\n",
       "      <td>in</td>\n",
       "      <td>Zopper</td>\n",
       "      <td>zopper.com</td>\n",
       "      <td>10.0</td>\n",
       "      <td>10.0</td>\n",
       "      <td>Decent Functions and Easy to Operate Pros:- Th...</td>\n",
       "      <td>Expert Review</td>\n",
       "      <td>Samsung Galaxy Star Pro S7262 Black</td>\n",
       "    </tr>\n",
       "    <tr>\n",
       "      <th>2</th>\n",
       "      <td>/cellphones/samsung-s7262-duos-galaxy-ace/</td>\n",
       "      <td>29/10/2015</td>\n",
       "      <td>en</td>\n",
       "      <td>in</td>\n",
       "      <td>Amazon</td>\n",
       "      <td>amazon.in</td>\n",
       "      <td>4.0</td>\n",
       "      <td>10.0</td>\n",
       "      <td>Not Good Phone such price. Hang too much and v...</td>\n",
       "      <td>Amazon Customer</td>\n",
       "      <td>Samsung Galaxy Star Pro GT-S7262 (Midnight Black)</td>\n",
       "    </tr>\n",
       "    <tr>\n",
       "      <th>3</th>\n",
       "      <td>/cellphones/samsung-s7262-duos-galaxy-ace/</td>\n",
       "      <td>29/10/2015</td>\n",
       "      <td>en</td>\n",
       "      <td>in</td>\n",
       "      <td>Amazon</td>\n",
       "      <td>amazon.in</td>\n",
       "      <td>6.0</td>\n",
       "      <td>10.0</td>\n",
       "      <td>not bad for features</td>\n",
       "      <td>Amazon Customer</td>\n",
       "      <td>Samsung Galaxy Star Pro GT-S7262 (Midnight Black)</td>\n",
       "    </tr>\n",
       "    <tr>\n",
       "      <th>4</th>\n",
       "      <td>/cellphones/samsung-s7262-duos-galaxy-ace/</td>\n",
       "      <td>29/10/2015</td>\n",
       "      <td>en</td>\n",
       "      <td>in</td>\n",
       "      <td>Amazon</td>\n",
       "      <td>amazon.in</td>\n",
       "      <td>10.0</td>\n",
       "      <td>10.0</td>\n",
       "      <td>Excellent product</td>\n",
       "      <td>NHK</td>\n",
       "      <td>Samsung Galaxy Star Pro GT-S7262 (Midnight Black)</td>\n",
       "    </tr>\n",
       "  </tbody>\n",
       "</table>\n",
       "</div>"
      ],
      "text/plain": [
       "                                    phone_url        date lang country  \\\n",
       "0  /cellphones/samsung-s7262-duos-galaxy-ace/   3/11/2015   en      us   \n",
       "1  /cellphones/samsung-s7262-duos-galaxy-ace/  17/11/2015   en      in   \n",
       "2  /cellphones/samsung-s7262-duos-galaxy-ace/  29/10/2015   en      in   \n",
       "3  /cellphones/samsung-s7262-duos-galaxy-ace/  29/10/2015   en      in   \n",
       "4  /cellphones/samsung-s7262-duos-galaxy-ace/  29/10/2015   en      in   \n",
       "\n",
       "   source      domain  score  score_max  \\\n",
       "0  Amazon  amazon.com    2.0       10.0   \n",
       "1  Zopper  zopper.com   10.0       10.0   \n",
       "2  Amazon   amazon.in    4.0       10.0   \n",
       "3  Amazon   amazon.in    6.0       10.0   \n",
       "4  Amazon   amazon.in   10.0       10.0   \n",
       "\n",
       "                                             extract            author  \\\n",
       "0  was not conpatable with my phone as stated. I ...  Frances DeSimone   \n",
       "1  Decent Functions and Easy to Operate Pros:- Th...     Expert Review   \n",
       "2  Not Good Phone such price. Hang too much and v...   Amazon Customer   \n",
       "3                               not bad for features   Amazon Customer   \n",
       "4                                  Excellent product               NHK   \n",
       "\n",
       "                                             product  \n",
       "0  Samsung Galaxy Star Pro DUOS S7262 Unlocked Ce...  \n",
       "1                Samsung Galaxy Star Pro S7262 Black  \n",
       "2  Samsung Galaxy Star Pro GT-S7262 (Midnight Black)  \n",
       "3  Samsung Galaxy Star Pro GT-S7262 (Midnight Black)  \n",
       "4  Samsung Galaxy Star Pro GT-S7262 (Midnight Black)  "
      ]
     },
     "execution_count": 8,
     "metadata": {},
     "output_type": "execute_result"
    }
   ],
   "source": [
    "d4 = pd.read_csv('phone_user_review_file_4.csv',encoding=\"latin-1\")\n",
    "d4.head()"
   ]
  },
  {
   "cell_type": "code",
   "execution_count": 9,
   "id": "39ffb95e",
   "metadata": {},
   "outputs": [
    {
     "name": "stdout",
     "output_type": "stream",
     "text": [
      "<class 'pandas.core.frame.DataFrame'>\n",
      "RangeIndex: 98284 entries, 0 to 98283\n",
      "Data columns (total 11 columns):\n",
      " #   Column     Non-Null Count  Dtype  \n",
      "---  ------     --------------  -----  \n",
      " 0   phone_url  98284 non-null  object \n",
      " 1   date       98284 non-null  object \n",
      " 2   lang       98284 non-null  object \n",
      " 3   country    98284 non-null  object \n",
      " 4   source     98284 non-null  object \n",
      " 5   domain     98284 non-null  object \n",
      " 6   score      93706 non-null  float64\n",
      " 7   score_max  93706 non-null  float64\n",
      " 8   extract    96857 non-null  object \n",
      " 9   author     92696 non-null  object \n",
      " 10  product    98284 non-null  object \n",
      "dtypes: float64(2), object(9)\n",
      "memory usage: 8.2+ MB\n"
     ]
    }
   ],
   "source": [
    "d4.info()"
   ]
  },
  {
   "cell_type": "markdown",
   "id": "6e0af4bd",
   "metadata": {},
   "source": [
    "# Observation:-\n",
    "\n",
    "        All data is objects type but score and score_max is floating data type . \n",
    "        seems the null values in the score and scre_max and number of null values is same.\n",
    "        seems the null values in extract and author .\n",
    "        There are 98284 rows and 11 colums"
   ]
  },
  {
   "cell_type": "code",
   "execution_count": 10,
   "id": "05b0e7fb",
   "metadata": {},
   "outputs": [
    {
     "data": {
      "text/html": [
       "<div>\n",
       "<style scoped>\n",
       "    .dataframe tbody tr th:only-of-type {\n",
       "        vertical-align: middle;\n",
       "    }\n",
       "\n",
       "    .dataframe tbody tr th {\n",
       "        vertical-align: top;\n",
       "    }\n",
       "\n",
       "    .dataframe thead th {\n",
       "        text-align: right;\n",
       "    }\n",
       "</style>\n",
       "<table border=\"1\" class=\"dataframe\">\n",
       "  <thead>\n",
       "    <tr style=\"text-align: right;\">\n",
       "      <th></th>\n",
       "      <th>phone_url</th>\n",
       "      <th>date</th>\n",
       "      <th>lang</th>\n",
       "      <th>country</th>\n",
       "      <th>source</th>\n",
       "      <th>domain</th>\n",
       "      <th>score</th>\n",
       "      <th>score_max</th>\n",
       "      <th>extract</th>\n",
       "      <th>author</th>\n",
       "      <th>product</th>\n",
       "    </tr>\n",
       "  </thead>\n",
       "  <tbody>\n",
       "    <tr>\n",
       "      <th>0</th>\n",
       "      <td>/cellphones/karbonn-k1616/</td>\n",
       "      <td>7/13/2016</td>\n",
       "      <td>en</td>\n",
       "      <td>in</td>\n",
       "      <td>91 Mobiles</td>\n",
       "      <td>91mobiles.com</td>\n",
       "      <td>2.0</td>\n",
       "      <td>10.0</td>\n",
       "      <td>I bought 1 month before. currently speaker is ...</td>\n",
       "      <td>venkatesh</td>\n",
       "      <td>Karbonn K1616</td>\n",
       "    </tr>\n",
       "    <tr>\n",
       "      <th>1</th>\n",
       "      <td>/cellphones/karbonn-k1616/</td>\n",
       "      <td>7/13/2016</td>\n",
       "      <td>en</td>\n",
       "      <td>in</td>\n",
       "      <td>91 Mobiles</td>\n",
       "      <td>91mobiles.com</td>\n",
       "      <td>6.0</td>\n",
       "      <td>10.0</td>\n",
       "      <td>I just bought one week back, I have Airtel con...</td>\n",
       "      <td>Venkat</td>\n",
       "      <td>Karbonn K1616</td>\n",
       "    </tr>\n",
       "    <tr>\n",
       "      <th>2</th>\n",
       "      <td>/cellphones/karbonn-k1616/</td>\n",
       "      <td>7/13/2016</td>\n",
       "      <td>en</td>\n",
       "      <td>in</td>\n",
       "      <td>91 Mobiles</td>\n",
       "      <td>91mobiles.com</td>\n",
       "      <td>4.0</td>\n",
       "      <td>10.0</td>\n",
       "      <td>one problem in this handset opera is not worki...</td>\n",
       "      <td>krrish</td>\n",
       "      <td>Karbonn K1616</td>\n",
       "    </tr>\n",
       "    <tr>\n",
       "      <th>3</th>\n",
       "      <td>/cellphones/karbonn-k1616/</td>\n",
       "      <td>4/25/2014</td>\n",
       "      <td>en</td>\n",
       "      <td>in</td>\n",
       "      <td>Naaptol</td>\n",
       "      <td>naaptol.com</td>\n",
       "      <td>10.0</td>\n",
       "      <td>10.0</td>\n",
       "      <td>here Karbonn comes up with an another excellen...</td>\n",
       "      <td>BRIJESH CHAUHAN</td>\n",
       "      <td>Karbonn K1616 - Black</td>\n",
       "    </tr>\n",
       "    <tr>\n",
       "      <th>4</th>\n",
       "      <td>/cellphones/karbonn-k1616/</td>\n",
       "      <td>4/23/2013</td>\n",
       "      <td>en</td>\n",
       "      <td>in</td>\n",
       "      <td>Naaptol</td>\n",
       "      <td>naaptol.com</td>\n",
       "      <td>10.0</td>\n",
       "      <td>10.0</td>\n",
       "      <td>What a phone, all so on Naaptol my god 23% off...</td>\n",
       "      <td>Suraj CHAUHAN</td>\n",
       "      <td>Karbonn K1616 - Black</td>\n",
       "    </tr>\n",
       "  </tbody>\n",
       "</table>\n",
       "</div>"
      ],
      "text/plain": [
       "                    phone_url       date lang country      source  \\\n",
       "0  /cellphones/karbonn-k1616/  7/13/2016   en      in  91 Mobiles   \n",
       "1  /cellphones/karbonn-k1616/  7/13/2016   en      in  91 Mobiles   \n",
       "2  /cellphones/karbonn-k1616/  7/13/2016   en      in  91 Mobiles   \n",
       "3  /cellphones/karbonn-k1616/  4/25/2014   en      in     Naaptol   \n",
       "4  /cellphones/karbonn-k1616/  4/23/2013   en      in     Naaptol   \n",
       "\n",
       "          domain  score  score_max  \\\n",
       "0  91mobiles.com    2.0       10.0   \n",
       "1  91mobiles.com    6.0       10.0   \n",
       "2  91mobiles.com    4.0       10.0   \n",
       "3    naaptol.com   10.0       10.0   \n",
       "4    naaptol.com   10.0       10.0   \n",
       "\n",
       "                                             extract           author  \\\n",
       "0  I bought 1 month before. currently speaker is ...        venkatesh   \n",
       "1  I just bought one week back, I have Airtel con...           Venkat   \n",
       "2  one problem in this handset opera is not worki...           krrish   \n",
       "3  here Karbonn comes up with an another excellen...  BRIJESH CHAUHAN   \n",
       "4  What a phone, all so on Naaptol my god 23% off...    Suraj CHAUHAN   \n",
       "\n",
       "                 product  \n",
       "0          Karbonn K1616  \n",
       "1          Karbonn K1616  \n",
       "2          Karbonn K1616  \n",
       "3  Karbonn K1616 - Black  \n",
       "4  Karbonn K1616 - Black  "
      ]
     },
     "execution_count": 10,
     "metadata": {},
     "output_type": "execute_result"
    }
   ],
   "source": [
    "d5 = pd.read_csv('phone_user_review_file_5.csv',encoding=\"latin-1\")\n",
    "d5.head()"
   ]
  },
  {
   "cell_type": "code",
   "execution_count": 11,
   "id": "622c52ce",
   "metadata": {},
   "outputs": [
    {
     "name": "stdout",
     "output_type": "stream",
     "text": [
      "<class 'pandas.core.frame.DataFrame'>\n",
      "RangeIndex: 350216 entries, 0 to 350215\n",
      "Data columns (total 11 columns):\n",
      " #   Column     Non-Null Count   Dtype  \n",
      "---  ------     --------------   -----  \n",
      " 0   phone_url  350216 non-null  object \n",
      " 1   date       350216 non-null  object \n",
      " 2   lang       350216 non-null  object \n",
      " 3   country    350216 non-null  object \n",
      " 4   source     350216 non-null  object \n",
      " 5   domain     350216 non-null  object \n",
      " 6   score      321983 non-null  float64\n",
      " 7   score_max  321983 non-null  float64\n",
      " 8   extract    341836 non-null  object \n",
      " 9   author     321351 non-null  object \n",
      " 10  product    350216 non-null  object \n",
      "dtypes: float64(2), object(9)\n",
      "memory usage: 29.4+ MB\n"
     ]
    }
   ],
   "source": [
    "d5.info()"
   ]
  },
  {
   "cell_type": "markdown",
   "id": "e3707f27",
   "metadata": {},
   "source": [
    "# Observation:-\n",
    "\n",
    "        All data is objects type but score and score_max is floating data type . \n",
    "        seems the null values in the score and scre_max and number of null values is same.\n",
    "        seems the null values in extract and author .\n",
    "        There are 350216 rows and 11 colums"
   ]
  },
  {
   "cell_type": "code",
   "execution_count": 12,
   "id": "24d366c2",
   "metadata": {},
   "outputs": [
    {
     "data": {
      "text/html": [
       "<div>\n",
       "<style scoped>\n",
       "    .dataframe tbody tr th:only-of-type {\n",
       "        vertical-align: middle;\n",
       "    }\n",
       "\n",
       "    .dataframe tbody tr th {\n",
       "        vertical-align: top;\n",
       "    }\n",
       "\n",
       "    .dataframe thead th {\n",
       "        text-align: right;\n",
       "    }\n",
       "</style>\n",
       "<table border=\"1\" class=\"dataframe\">\n",
       "  <thead>\n",
       "    <tr style=\"text-align: right;\">\n",
       "      <th></th>\n",
       "      <th>phone_url</th>\n",
       "      <th>date</th>\n",
       "      <th>lang</th>\n",
       "      <th>country</th>\n",
       "      <th>source</th>\n",
       "      <th>domain</th>\n",
       "      <th>score</th>\n",
       "      <th>score_max</th>\n",
       "      <th>extract</th>\n",
       "      <th>author</th>\n",
       "      <th>product</th>\n",
       "    </tr>\n",
       "  </thead>\n",
       "  <tbody>\n",
       "    <tr>\n",
       "      <th>0</th>\n",
       "      <td>/cellphones/samsung-instinct-sph-m800/</td>\n",
       "      <td>9/16/2011</td>\n",
       "      <td>en</td>\n",
       "      <td>us</td>\n",
       "      <td>Phone Arena</td>\n",
       "      <td>phonearena.com</td>\n",
       "      <td>8.0</td>\n",
       "      <td>10.0</td>\n",
       "      <td>I've had the phone for awhile and it's a prett...</td>\n",
       "      <td>ajabrams95</td>\n",
       "      <td>Samsung Instinct HD</td>\n",
       "    </tr>\n",
       "    <tr>\n",
       "      <th>1</th>\n",
       "      <td>/cellphones/samsung-instinct-sph-m800/</td>\n",
       "      <td>2/13/2014</td>\n",
       "      <td>en</td>\n",
       "      <td>us</td>\n",
       "      <td>Amazon</td>\n",
       "      <td>amazon.com</td>\n",
       "      <td>6.0</td>\n",
       "      <td>10.0</td>\n",
       "      <td>to be clear it is not the sellers fault that t...</td>\n",
       "      <td>Stephanie</td>\n",
       "      <td>Samsung SPH M800 Instinct</td>\n",
       "    </tr>\n",
       "    <tr>\n",
       "      <th>2</th>\n",
       "      <td>/cellphones/samsung-instinct-sph-m800/</td>\n",
       "      <td>12/30/2011</td>\n",
       "      <td>en</td>\n",
       "      <td>us</td>\n",
       "      <td>Phone Scoop</td>\n",
       "      <td>phonescoop.com</td>\n",
       "      <td>9.0</td>\n",
       "      <td>10.0</td>\n",
       "      <td>Well i love this phone. i have had ton of phon...</td>\n",
       "      <td>snickers</td>\n",
       "      <td>Instinct M800</td>\n",
       "    </tr>\n",
       "    <tr>\n",
       "      <th>3</th>\n",
       "      <td>/cellphones/samsung-instinct-sph-m800/</td>\n",
       "      <td>10/18/2008</td>\n",
       "      <td>en</td>\n",
       "      <td>us</td>\n",
       "      <td>HandCellPhone</td>\n",
       "      <td>handcellphone.com</td>\n",
       "      <td>4.0</td>\n",
       "      <td>10.0</td>\n",
       "      <td>I have had my Instinct for several months now ...</td>\n",
       "      <td>A4C</td>\n",
       "      <td>Samsung Instinct</td>\n",
       "    </tr>\n",
       "    <tr>\n",
       "      <th>4</th>\n",
       "      <td>/cellphones/samsung-instinct-sph-m800/</td>\n",
       "      <td>9/6/2008</td>\n",
       "      <td>en</td>\n",
       "      <td>us</td>\n",
       "      <td>Reviewed.com</td>\n",
       "      <td>reviewed.com</td>\n",
       "      <td>6.0</td>\n",
       "      <td>10.0</td>\n",
       "      <td>i have had this instinct phone for about two m...</td>\n",
       "      <td>betaBgood</td>\n",
       "      <td>Samsung Instinct</td>\n",
       "    </tr>\n",
       "  </tbody>\n",
       "</table>\n",
       "</div>"
      ],
      "text/plain": [
       "                                phone_url        date lang country  \\\n",
       "0  /cellphones/samsung-instinct-sph-m800/   9/16/2011   en      us   \n",
       "1  /cellphones/samsung-instinct-sph-m800/   2/13/2014   en      us   \n",
       "2  /cellphones/samsung-instinct-sph-m800/  12/30/2011   en      us   \n",
       "3  /cellphones/samsung-instinct-sph-m800/  10/18/2008   en      us   \n",
       "4  /cellphones/samsung-instinct-sph-m800/    9/6/2008   en      us   \n",
       "\n",
       "          source             domain  score  score_max  \\\n",
       "0    Phone Arena     phonearena.com    8.0       10.0   \n",
       "1         Amazon         amazon.com    6.0       10.0   \n",
       "2    Phone Scoop     phonescoop.com    9.0       10.0   \n",
       "3  HandCellPhone  handcellphone.com    4.0       10.0   \n",
       "4   Reviewed.com       reviewed.com    6.0       10.0   \n",
       "\n",
       "                                             extract      author  \\\n",
       "0  I've had the phone for awhile and it's a prett...  ajabrams95   \n",
       "1  to be clear it is not the sellers fault that t...   Stephanie   \n",
       "2  Well i love this phone. i have had ton of phon...    snickers   \n",
       "3  I have had my Instinct for several months now ...         A4C   \n",
       "4  i have had this instinct phone for about two m...   betaBgood   \n",
       "\n",
       "                     product  \n",
       "0        Samsung Instinct HD  \n",
       "1  Samsung SPH M800 Instinct  \n",
       "2              Instinct M800  \n",
       "3           Samsung Instinct  \n",
       "4           Samsung Instinct  "
      ]
     },
     "execution_count": 12,
     "metadata": {},
     "output_type": "execute_result"
    }
   ],
   "source": [
    "d6 = pd.read_csv('phone_user_review_file_6.csv',encoding=\"latin-1\")\n",
    "d6.head()"
   ]
  },
  {
   "cell_type": "code",
   "execution_count": 13,
   "id": "143e45e5",
   "metadata": {},
   "outputs": [
    {
     "name": "stdout",
     "output_type": "stream",
     "text": [
      "<class 'pandas.core.frame.DataFrame'>\n",
      "RangeIndex: 163837 entries, 0 to 163836\n",
      "Data columns (total 11 columns):\n",
      " #   Column     Non-Null Count   Dtype  \n",
      "---  ------     --------------   -----  \n",
      " 0   phone_url  163837 non-null  object \n",
      " 1   date       163837 non-null  object \n",
      " 2   lang       163837 non-null  object \n",
      " 3   country    163837 non-null  object \n",
      " 4   source     163837 non-null  object \n",
      " 5   domain     163837 non-null  object \n",
      " 6   score      152165 non-null  float64\n",
      " 7   score_max  152165 non-null  float64\n",
      " 8   extract    160949 non-null  object \n",
      " 9   author     150780 non-null  object \n",
      " 10  product    163837 non-null  object \n",
      "dtypes: float64(2), object(9)\n",
      "memory usage: 13.7+ MB\n"
     ]
    }
   ],
   "source": [
    "d6.info()"
   ]
  },
  {
   "cell_type": "markdown",
   "id": "26723fef",
   "metadata": {},
   "source": [
    "# Observation:-\n",
    "\n",
    "        All data is objects type but score and score_max is floating data type . \n",
    "        seems the null values in the score and scre_max and number of null values is same.\n",
    "        seems the null values in extract and author .\n",
    "        There are 163837 rows and 11 colums"
   ]
  },
  {
   "cell_type": "markdown",
   "id": "f35b9b0c",
   "metadata": {},
   "source": [
    "# Merge all the provided CSVs into one data-frame."
   ]
  },
  {
   "cell_type": "code",
   "execution_count": 14,
   "id": "3a244202",
   "metadata": {},
   "outputs": [
    {
     "data": {
      "text/html": [
       "<div>\n",
       "<style scoped>\n",
       "    .dataframe tbody tr th:only-of-type {\n",
       "        vertical-align: middle;\n",
       "    }\n",
       "\n",
       "    .dataframe tbody tr th {\n",
       "        vertical-align: top;\n",
       "    }\n",
       "\n",
       "    .dataframe thead th {\n",
       "        text-align: right;\n",
       "    }\n",
       "</style>\n",
       "<table border=\"1\" class=\"dataframe\">\n",
       "  <thead>\n",
       "    <tr style=\"text-align: right;\">\n",
       "      <th></th>\n",
       "      <th>phone_url</th>\n",
       "      <th>date</th>\n",
       "      <th>lang</th>\n",
       "      <th>country</th>\n",
       "      <th>source</th>\n",
       "      <th>domain</th>\n",
       "      <th>score</th>\n",
       "      <th>score_max</th>\n",
       "      <th>extract</th>\n",
       "      <th>author</th>\n",
       "      <th>product</th>\n",
       "    </tr>\n",
       "  </thead>\n",
       "  <tbody>\n",
       "    <tr>\n",
       "      <th>0</th>\n",
       "      <td>/cellphones/samsung-galaxy-s8/</td>\n",
       "      <td>5/2/2017</td>\n",
       "      <td>en</td>\n",
       "      <td>us</td>\n",
       "      <td>Verizon Wireless</td>\n",
       "      <td>verizonwireless.com</td>\n",
       "      <td>10.0</td>\n",
       "      <td>10.0</td>\n",
       "      <td>As a diehard Samsung fan who has had every Sam...</td>\n",
       "      <td>CarolAnn35</td>\n",
       "      <td>Samsung Galaxy S8</td>\n",
       "    </tr>\n",
       "    <tr>\n",
       "      <th>1</th>\n",
       "      <td>/cellphones/samsung-galaxy-s8/</td>\n",
       "      <td>4/28/2017</td>\n",
       "      <td>en</td>\n",
       "      <td>us</td>\n",
       "      <td>Phone Arena</td>\n",
       "      <td>phonearena.com</td>\n",
       "      <td>10.0</td>\n",
       "      <td>10.0</td>\n",
       "      <td>Love the phone. the phone is sleek and smooth ...</td>\n",
       "      <td>james0923</td>\n",
       "      <td>Samsung Galaxy S8</td>\n",
       "    </tr>\n",
       "    <tr>\n",
       "      <th>2</th>\n",
       "      <td>/cellphones/samsung-galaxy-s8/</td>\n",
       "      <td>5/4/2017</td>\n",
       "      <td>en</td>\n",
       "      <td>us</td>\n",
       "      <td>Amazon</td>\n",
       "      <td>amazon.com</td>\n",
       "      <td>6.0</td>\n",
       "      <td>10.0</td>\n",
       "      <td>Adequate feel. Nice heft. Processor's still sl...</td>\n",
       "      <td>R. Craig</td>\n",
       "      <td>Samsung Galaxy S8 (64GB) G950U 5.8\" 4G LTE Unl...</td>\n",
       "    </tr>\n",
       "    <tr>\n",
       "      <th>3</th>\n",
       "      <td>/cellphones/samsung-galaxy-s8/</td>\n",
       "      <td>5/2/2017</td>\n",
       "      <td>en</td>\n",
       "      <td>us</td>\n",
       "      <td>Samsung</td>\n",
       "      <td>samsung.com</td>\n",
       "      <td>9.2</td>\n",
       "      <td>10.0</td>\n",
       "      <td>Never disappointed. One of the reasons I've be...</td>\n",
       "      <td>Buster2020</td>\n",
       "      <td>Samsung Galaxy S8 64GB (AT&amp;T)</td>\n",
       "    </tr>\n",
       "    <tr>\n",
       "      <th>4</th>\n",
       "      <td>/cellphones/samsung-galaxy-s8/</td>\n",
       "      <td>5/11/2017</td>\n",
       "      <td>en</td>\n",
       "      <td>us</td>\n",
       "      <td>Verizon Wireless</td>\n",
       "      <td>verizonwireless.com</td>\n",
       "      <td>4.0</td>\n",
       "      <td>10.0</td>\n",
       "      <td>I've now found that i'm in a group of people t...</td>\n",
       "      <td>S Ate Mine</td>\n",
       "      <td>Samsung Galaxy S8</td>\n",
       "    </tr>\n",
       "  </tbody>\n",
       "</table>\n",
       "</div>"
      ],
      "text/plain": [
       "                        phone_url       date lang country            source  \\\n",
       "0  /cellphones/samsung-galaxy-s8/   5/2/2017   en      us  Verizon Wireless   \n",
       "1  /cellphones/samsung-galaxy-s8/  4/28/2017   en      us       Phone Arena   \n",
       "2  /cellphones/samsung-galaxy-s8/   5/4/2017   en      us            Amazon   \n",
       "3  /cellphones/samsung-galaxy-s8/   5/2/2017   en      us           Samsung   \n",
       "4  /cellphones/samsung-galaxy-s8/  5/11/2017   en      us  Verizon Wireless   \n",
       "\n",
       "                domain  score  score_max  \\\n",
       "0  verizonwireless.com   10.0       10.0   \n",
       "1       phonearena.com   10.0       10.0   \n",
       "2           amazon.com    6.0       10.0   \n",
       "3          samsung.com    9.2       10.0   \n",
       "4  verizonwireless.com    4.0       10.0   \n",
       "\n",
       "                                             extract       author  \\\n",
       "0  As a diehard Samsung fan who has had every Sam...   CarolAnn35   \n",
       "1  Love the phone. the phone is sleek and smooth ...    james0923   \n",
       "2  Adequate feel. Nice heft. Processor's still sl...     R. Craig   \n",
       "3  Never disappointed. One of the reasons I've be...  Buster2020    \n",
       "4  I've now found that i'm in a group of people t...   S Ate Mine   \n",
       "\n",
       "                                             product  \n",
       "0                                  Samsung Galaxy S8  \n",
       "1                                  Samsung Galaxy S8  \n",
       "2  Samsung Galaxy S8 (64GB) G950U 5.8\" 4G LTE Unl...  \n",
       "3                      Samsung Galaxy S8 64GB (AT&T)  \n",
       "4                                  Samsung Galaxy S8  "
      ]
     },
     "execution_count": 14,
     "metadata": {},
     "output_type": "execute_result"
    }
   ],
   "source": [
    "#df=d1.append([d2,d3,d4,d5,d6])\n",
    "#df.head()\n",
    "df = pd.concat((d1,d2,d3,d4,d5,d6)) # Read all dataframe in one datafreame\n",
    "df.head()"
   ]
  },
  {
   "cell_type": "code",
   "execution_count": 15,
   "id": "1e706d11",
   "metadata": {},
   "outputs": [
    {
     "name": "stdout",
     "output_type": "stream",
     "text": [
      "<class 'pandas.core.frame.DataFrame'>\n",
      "Int64Index: 1415133 entries, 0 to 163836\n",
      "Data columns (total 11 columns):\n",
      " #   Column     Non-Null Count    Dtype  \n",
      "---  ------     --------------    -----  \n",
      " 0   phone_url  1415133 non-null  object \n",
      " 1   date       1415133 non-null  object \n",
      " 2   lang       1415133 non-null  object \n",
      " 3   country    1415133 non-null  object \n",
      " 4   source     1415133 non-null  object \n",
      " 5   domain     1415133 non-null  object \n",
      " 6   score      1351644 non-null  float64\n",
      " 7   score_max  1351644 non-null  float64\n",
      " 8   extract    1395772 non-null  object \n",
      " 9   author     1351931 non-null  object \n",
      " 10  product    1415132 non-null  object \n",
      "dtypes: float64(2), object(9)\n",
      "memory usage: 129.6+ MB\n"
     ]
    }
   ],
   "source": [
    "df.info()"
   ]
  },
  {
   "cell_type": "markdown",
   "id": "ce5b6518",
   "metadata": {},
   "source": [
    "# Observation:-\n",
    "    :  We have 1415133 Rows and 11 Columns.\n",
    "    :  Dataset contains some missing values and contains object datatypes as well.\n",
    "    :  Rounding off scores to nearest integers.\n",
    "    :  All data are objects type but score and score_max is floating datatype. \n",
    "    :  seems the null values in the score and scre_max and number of null values is same.\n",
    "    :  seems the null values in extract and author .\n",
    "       \n"
   ]
  },
  {
   "cell_type": "code",
   "execution_count": 16,
   "id": "dba4c9b8",
   "metadata": {},
   "outputs": [
    {
     "data": {
      "text/plain": [
       "(1415133, 11)"
      ]
     },
     "execution_count": 16,
     "metadata": {},
     "output_type": "execute_result"
    }
   ],
   "source": [
    "df.shape"
   ]
  },
  {
   "cell_type": "code",
   "execution_count": 17,
   "id": "71dda937",
   "metadata": {},
   "outputs": [],
   "source": [
    "df['score']=df['score'].apply(np.round)"
   ]
  },
  {
   "cell_type": "code",
   "execution_count": 18,
   "id": "980f96e3",
   "metadata": {},
   "outputs": [
    {
     "data": {
      "text/plain": [
       "8.0"
      ]
     },
     "execution_count": 18,
     "metadata": {},
     "output_type": "execute_result"
    }
   ],
   "source": [
    "np.round(df['score'].mean())"
   ]
  },
  {
   "cell_type": "code",
   "execution_count": 19,
   "id": "9de9cdfe",
   "metadata": {},
   "outputs": [],
   "source": [
    "# Since date column is object Converting it into datetime datatype and also creating year and Month Column\n",
    "\n",
    "df['date']=pd.to_datetime(df['date'])\n",
    "df['year'] = pd.DatetimeIndex(df['date']).year\n",
    "df['month'] = pd.DatetimeIndex(df['date']).month"
   ]
  },
  {
   "cell_type": "markdown",
   "id": "2d79a1b3",
   "metadata": {},
   "source": [
    "# Check for missing values. Impute the missing values, if any."
   ]
  },
  {
   "cell_type": "code",
   "execution_count": 20,
   "id": "f9b4f8b2",
   "metadata": {},
   "outputs": [
    {
     "data": {
      "text/plain": [
       "phone_url        0\n",
       "date             0\n",
       "lang             0\n",
       "country          0\n",
       "source           0\n",
       "domain           0\n",
       "score        63489\n",
       "score_max    63489\n",
       "extract      19361\n",
       "author       63202\n",
       "product          1\n",
       "year             0\n",
       "month            0\n",
       "dtype: int64"
      ]
     },
     "execution_count": 20,
     "metadata": {},
     "output_type": "execute_result"
    }
   ],
   "source": [
    "df.isnull().sum()"
   ]
  },
  {
   "cell_type": "markdown",
   "id": "587f6a08",
   "metadata": {},
   "source": [
    "# Observation:-\n",
    "\n",
    "    :  score , score_max, extract, author and product has missing values Imputing score with mean value of column and\n",
    "        rest of the columns with mode."
   ]
  },
  {
   "cell_type": "code",
   "execution_count": 21,
   "id": "5377f7d3",
   "metadata": {},
   "outputs": [
    {
     "data": {
      "text/html": [
       "<div>\n",
       "<style scoped>\n",
       "    .dataframe tbody tr th:only-of-type {\n",
       "        vertical-align: middle;\n",
       "    }\n",
       "\n",
       "    .dataframe tbody tr th {\n",
       "        vertical-align: top;\n",
       "    }\n",
       "\n",
       "    .dataframe thead th {\n",
       "        text-align: right;\n",
       "    }\n",
       "</style>\n",
       "<table border=\"1\" class=\"dataframe\">\n",
       "  <thead>\n",
       "    <tr style=\"text-align: right;\">\n",
       "      <th></th>\n",
       "      <th>count</th>\n",
       "      <th>mean</th>\n",
       "      <th>std</th>\n",
       "      <th>min</th>\n",
       "      <th>25%</th>\n",
       "      <th>50%</th>\n",
       "      <th>75%</th>\n",
       "      <th>max</th>\n",
       "    </tr>\n",
       "  </thead>\n",
       "  <tbody>\n",
       "    <tr>\n",
       "      <th>score</th>\n",
       "      <td>1351644.0</td>\n",
       "      <td>8.008083</td>\n",
       "      <td>2.617634</td>\n",
       "      <td>0.0</td>\n",
       "      <td>7.0</td>\n",
       "      <td>9.0</td>\n",
       "      <td>10.0</td>\n",
       "      <td>10.0</td>\n",
       "    </tr>\n",
       "    <tr>\n",
       "      <th>score_max</th>\n",
       "      <td>1351644.0</td>\n",
       "      <td>10.000000</td>\n",
       "      <td>0.000000</td>\n",
       "      <td>10.0</td>\n",
       "      <td>10.0</td>\n",
       "      <td>10.0</td>\n",
       "      <td>10.0</td>\n",
       "      <td>10.0</td>\n",
       "    </tr>\n",
       "    <tr>\n",
       "      <th>year</th>\n",
       "      <td>1415133.0</td>\n",
       "      <td>2013.024245</td>\n",
       "      <td>3.024162</td>\n",
       "      <td>1970.0</td>\n",
       "      <td>2012.0</td>\n",
       "      <td>2014.0</td>\n",
       "      <td>2015.0</td>\n",
       "      <td>2017.0</td>\n",
       "    </tr>\n",
       "    <tr>\n",
       "      <th>month</th>\n",
       "      <td>1415133.0</td>\n",
       "      <td>6.607971</td>\n",
       "      <td>3.533004</td>\n",
       "      <td>1.0</td>\n",
       "      <td>3.0</td>\n",
       "      <td>7.0</td>\n",
       "      <td>10.0</td>\n",
       "      <td>12.0</td>\n",
       "    </tr>\n",
       "  </tbody>\n",
       "</table>\n",
       "</div>"
      ],
      "text/plain": [
       "               count         mean       std     min     25%     50%     75%  \\\n",
       "score      1351644.0     8.008083  2.617634     0.0     7.0     9.0    10.0   \n",
       "score_max  1351644.0    10.000000  0.000000    10.0    10.0    10.0    10.0   \n",
       "year       1415133.0  2013.024245  3.024162  1970.0  2012.0  2014.0  2015.0   \n",
       "month      1415133.0     6.607971  3.533004     1.0     3.0     7.0    10.0   \n",
       "\n",
       "              max  \n",
       "score        10.0  \n",
       "score_max    10.0  \n",
       "year       2017.0  \n",
       "month        12.0  "
      ]
     },
     "execution_count": 21,
     "metadata": {},
     "output_type": "execute_result"
    }
   ],
   "source": [
    "df.describe().T"
   ]
  },
  {
   "cell_type": "markdown",
   "id": "4b6d3a54",
   "metadata": {},
   "source": [
    "# Observation :- \n",
    "\n",
    "        : Year all data count , mean,std and min always  high all data.\n",
    "        : Score mean is get 0 value.\n",
    "        : year and month count is equal and score and score_max is equal."
   ]
  },
  {
   "cell_type": "code",
   "execution_count": 22,
   "id": "ea104e48",
   "metadata": {},
   "outputs": [
    {
     "data": {
      "text/plain": [
       "phone_url        0\n",
       "date             0\n",
       "lang             0\n",
       "country          0\n",
       "source           0\n",
       "domain           0\n",
       "score            0\n",
       "score_max    63489\n",
       "extract          0\n",
       "author           0\n",
       "product          0\n",
       "year             0\n",
       "month            0\n",
       "dtype: int64"
      ]
     },
     "execution_count": 22,
     "metadata": {},
     "output_type": "execute_result"
    }
   ],
   "source": [
    "df['author'].fillna(df['author'].mode()[0],inplace=True)\n",
    "df['extract'].fillna(df['extract'].mode()[0],inplace=True)\n",
    "df['score'].fillna(np.round(df['score'].mean()),inplace=True)\n",
    "df['product'].fillna(df['product'].mode()[0],inplace=True)\n",
    "df.isnull().sum()"
   ]
  },
  {
   "cell_type": "code",
   "execution_count": 23,
   "id": "7340c94c",
   "metadata": {},
   "outputs": [
    {
     "data": {
      "text/plain": [
       "phone_url    0\n",
       "date         0\n",
       "lang         0\n",
       "country      0\n",
       "source       0\n",
       "domain       0\n",
       "score        0\n",
       "extract      0\n",
       "author       0\n",
       "product      0\n",
       "year         0\n",
       "month        0\n",
       "dtype: int64"
      ]
     },
     "execution_count": 23,
     "metadata": {},
     "output_type": "execute_result"
    }
   ],
   "source": [
    "df.drop('score_max',axis=1,inplace=True)\n",
    "df.isnull().sum()"
   ]
  },
  {
   "cell_type": "code",
   "execution_count": 24,
   "id": "a556bfe2",
   "metadata": {},
   "outputs": [
    {
     "data": {
      "text/plain": [
       "<Figure size 1224x504 with 0 Axes>"
      ]
     },
     "execution_count": 24,
     "metadata": {},
     "output_type": "execute_result"
    },
    {
     "data": {
      "text/plain": [
       "<AxesSubplot:xlabel='score', ylabel='count'>"
      ]
     },
     "execution_count": 24,
     "metadata": {},
     "output_type": "execute_result"
    },
    {
     "data": {
      "text/plain": [
       "Text(0.5, 1.0, 'Rating Count')"
      ]
     },
     "execution_count": 24,
     "metadata": {},
     "output_type": "execute_result"
    },
    {
     "data": {
      "image/png": "[encoded data removed]",
      "text/plain": [
       "<Figure size 1224x504 with 1 Axes>"
      ]
     },
     "metadata": {
      "needs_background": "light"
     },
     "output_type": "display_data"
    }
   ],
   "source": [
    "plt.figure(figsize=(17,7))\n",
    "sns.countplot('score',data=df,color='LightBlue')\n",
    "plt.title('Rating Count')\n",
    "plt.show()"
   ]
  },
  {
   "cell_type": "code",
   "execution_count": 25,
   "id": "8cf1d52f",
   "metadata": {},
   "outputs": [
    {
     "data": {
      "text/plain": [
       "<Figure size 1224x504 with 0 Axes>"
      ]
     },
     "execution_count": 25,
     "metadata": {},
     "output_type": "execute_result"
    },
    {
     "data": {
      "text/plain": [
       "<AxesSubplot:xlabel='year', ylabel='count'>"
      ]
     },
     "execution_count": 25,
     "metadata": {},
     "output_type": "execute_result"
    },
    {
     "data": {
      "text/plain": [
       "Text(0.5, 1.0, 'Rating Count Per Year')"
      ]
     },
     "execution_count": 25,
     "metadata": {},
     "output_type": "execute_result"
    },
    {
     "data": {
      "image/png": "[encoded data removed]",
      "text/plain": [
       "<Figure size 1224x504 with 1 Axes>"
      ]
     },
     "metadata": {
      "needs_background": "light"
     },
     "output_type": "display_data"
    }
   ],
   "source": [
    "plt.figure(figsize=(17,7))\n",
    "sns.countplot('year',data=df,color='LightBlue')\n",
    "plt.title('Rating Count Per Year')\n",
    "plt.show()"
   ]
  },
  {
   "cell_type": "code",
   "execution_count": 26,
   "id": "67b37feb",
   "metadata": {},
   "outputs": [
    {
     "data": {
      "text/plain": [
       "<Figure size 1224x504 with 0 Axes>"
      ]
     },
     "execution_count": 26,
     "metadata": {},
     "output_type": "execute_result"
    },
    {
     "data": {
      "text/plain": [
       "<AxesSubplot:xlabel='month', ylabel='count'>"
      ]
     },
     "execution_count": 26,
     "metadata": {},
     "output_type": "execute_result"
    },
    {
     "data": {
      "text/plain": [
       "Text(0.5, 1.0, 'Rating Count Per month')"
      ]
     },
     "execution_count": 26,
     "metadata": {},
     "output_type": "execute_result"
    },
    {
     "data": {
      "image/png": "[encoded data removed]",
      "text/plain": [
       "<Figure size 1224x504 with 1 Axes>"
      ]
     },
     "metadata": {
      "needs_background": "light"
     },
     "output_type": "display_data"
    }
   ],
   "source": [
    "plt.figure(figsize=(17,7))\n",
    "sns.countplot('month',data=df,color='LightBlue')\n",
    "plt.title('Rating Count Per month')\n",
    "plt.show()"
   ]
  },
  {
   "cell_type": "code",
   "execution_count": 27,
   "id": "5ba7acce",
   "metadata": {},
   "outputs": [
    {
     "data": {
      "text/plain": [
       "<Figure size 1224x504 with 0 Axes>"
      ]
     },
     "execution_count": 27,
     "metadata": {},
     "output_type": "execute_result"
    },
    {
     "data": {
      "text/plain": [
       "<AxesSubplot:ylabel='month'>"
      ]
     },
     "execution_count": 27,
     "metadata": {},
     "output_type": "execute_result"
    },
    {
     "data": {
      "image/png": "[encoded data removed]",
      "text/plain": [
       "<Figure size 1224x504 with 1 Axes>"
      ]
     },
     "metadata": {},
     "output_type": "display_data"
    }
   ],
   "source": [
    "plt.figure(figsize=(17,7))\n",
    "df['month'].value_counts().plot.pie(autopct='%1.1f%%')\n",
    "plt.show()"
   ]
  },
  {
   "cell_type": "markdown",
   "id": "aed05ce3",
   "metadata": {},
   "source": [
    "# Observation:-\n",
    "\n",
    "      Mostly all months has equal distributions. January and December distributions are high compared to other months.    \n",
    "      Small hike in December and January may be due to festival offers. Creating Day Name column and showing\n",
    "      dsitribution based on days."
   ]
  },
  {
   "cell_type": "code",
   "execution_count": 28,
   "id": "596d0956",
   "metadata": {},
   "outputs": [
    {
     "data": {
      "text/plain": [
       "<Figure size 1224x504 with 0 Axes>"
      ]
     },
     "execution_count": 28,
     "metadata": {},
     "output_type": "execute_result"
    },
    {
     "data": {
      "text/plain": [
       "<AxesSubplot:xlabel='Day_Name', ylabel='count'>"
      ]
     },
     "execution_count": 28,
     "metadata": {},
     "output_type": "execute_result"
    },
    {
     "data": {
      "text/plain": [
       "Text(0.5, 1.0, 'Rating Count in each day')"
      ]
     },
     "execution_count": 28,
     "metadata": {},
     "output_type": "execute_result"
    },
    {
     "data": {
      "image/png": "[encoded data removed]",
      "text/plain": [
       "<Figure size 1224x504 with 1 Axes>"
      ]
     },
     "metadata": {
      "needs_background": "light"
     },
     "output_type": "display_data"
    }
   ],
   "source": [
    "df['Day_Name']=df['date'].dt.day_name()\n",
    "plt.figure(figsize=(17,7))\n",
    "sns.countplot('Day_Name',data=df,color='LightBlue')\n",
    "plt.title('Rating Count in each day')\n",
    "plt.show()"
   ]
  },
  {
   "cell_type": "code",
   "execution_count": 29,
   "id": "59e64c90",
   "metadata": {},
   "outputs": [
    {
     "data": {
      "text/plain": [
       "(1415133, 4)"
      ]
     },
     "execution_count": 29,
     "metadata": {},
     "output_type": "execute_result"
    }
   ],
   "source": [
    "df.drop(['domain','phone_url','date','lang','country','source','domain','year','month','Day_Name'],axis=1,inplace=True)\n",
    "df.shape"
   ]
  },
  {
   "cell_type": "code",
   "execution_count": 30,
   "id": "a2da03b9",
   "metadata": {},
   "outputs": [
    {
     "data": {
      "text/plain": [
       "(1393548, 4)"
      ]
     },
     "execution_count": 30,
     "metadata": {},
     "output_type": "execute_result"
    }
   ],
   "source": [
    "df.drop_duplicates(inplace=True)\n",
    "df.shape"
   ]
  },
  {
   "cell_type": "markdown",
   "id": "f83e6237",
   "metadata": {},
   "source": [
    "A. Identify the most rated features.\n",
    "\n",
    "B. Identify the users with most number of reviews.\n",
    "\n",
    "C. Select the data with products having more than 50 ratings and users who have given more than 50 ratings. Report the shape of the final \n",
    "dataset. "
   ]
  },
  {
   "cell_type": "code",
   "execution_count": 31,
   "id": "c4c78499",
   "metadata": {},
   "outputs": [
    {
     "data": {
      "text/plain": [
       "(100000, 4)"
      ]
     },
     "execution_count": 31,
     "metadata": {},
     "output_type": "execute_result"
    }
   ],
   "source": [
    "df_sample=df.sample(random_state=612,replace=False,n=100000)\n",
    "df_sample.shape"
   ]
  },
  {
   "cell_type": "code",
   "execution_count": 32,
   "id": "e8deda62",
   "metadata": {},
   "outputs": [
    {
     "data": {
      "text/plain": [
       "score   -1.267585\n",
       "dtype: float64"
      ]
     },
     "execution_count": 32,
     "metadata": {},
     "output_type": "execute_result"
    }
   ],
   "source": [
    "df_sample.skew(axis = 0, skipna = True) "
   ]
  },
  {
   "cell_type": "code",
   "execution_count": 33,
   "id": "ee6e9f04",
   "metadata": {},
   "outputs": [
    {
     "data": {
      "text/plain": [
       "score    0.468128\n",
       "dtype: float64"
      ]
     },
     "execution_count": 33,
     "metadata": {},
     "output_type": "execute_result"
    }
   ],
   "source": [
    "df_sample.kurt(axis = 0, skipna = True) "
   ]
  },
  {
   "cell_type": "code",
   "execution_count": 34,
   "id": "005e0e39",
   "metadata": {},
   "outputs": [
    {
     "data": {
      "text/plain": [
       "Lenovo Vibe K4 Note (White,16GB)                345\n",
       "Lenovo Vibe K4 Note (Black, 16GB)               308\n",
       "OnePlus 3 (Graphite, 64 GB)                     292\n",
       "OnePlus 3 (Soft Gold, 64 GB)                    247\n",
       "Samsung Galaxy Express I8730                    202\n",
       "Lenovo Vibe K5 (Gold, VoLTE update)             174\n",
       "Lenovo Vibe K5 (Grey, VoLTE update)             161\n",
       "Nokia 5800 XpressMusic                          144\n",
       "Lenovo Used Lenovo Zuk Z1 (Space Grey, 64GB)    143\n",
       "Nokia N8                                        136\n",
       "Name: product, dtype: int64"
      ]
     },
     "execution_count": 34,
     "metadata": {},
     "output_type": "execute_result"
    }
   ],
   "source": [
    "df_sample['product'].value_counts()[:10]"
   ]
  },
  {
   "cell_type": "code",
   "execution_count": 35,
   "id": "a041ea19",
   "metadata": {},
   "outputs": [
    {
     "data": {
      "text/plain": [
       "Amazon Customer    9678\n",
       "Cliente Amazon     1410\n",
       "Client d'Amazon     571\n",
       "e-bit               563\n",
       "Amazon Kunde        307\n",
       "Anonymous           194\n",
       "einer Kundin        162\n",
       "einem Kunden        144\n",
       "unknown             131\n",
       "Anonymous            96\n",
       "Name: author, dtype: int64"
      ]
     },
     "execution_count": 35,
     "metadata": {},
     "output_type": "execute_result"
    }
   ],
   "source": [
    "df_sample['author'].value_counts()[:10]"
   ]
  },
  {
   "cell_type": "code",
   "execution_count": 36,
   "id": "0772e902",
   "metadata": {},
   "outputs": [
    {
     "data": {
      "text/plain": [
       "Ð¡ÐµÑÐ³ÐµÐ¹    51\n",
       "Alessandro      52\n",
       "Alberto         53\n",
       "Daniel          55\n",
       "Andrea          55\n",
       "Name: author, dtype: int64"
      ]
     },
     "execution_count": 36,
     "metadata": {},
     "output_type": "execute_result"
    }
   ],
   "source": [
    "#selecting user count greater than 50\n",
    "counts=pd.value_counts(df_sample['author']) \n",
    "df_sample=df_sample[(df_sample['author'].isin(counts[counts>50].index)) ]\n",
    "df_sample['author'].value_counts(ascending=True)[:5] #checking minimum user count"
   ]
  },
  {
   "cell_type": "code",
   "execution_count": 37,
   "id": "dc1169a6",
   "metadata": {},
   "outputs": [
    {
     "data": {
      "text/plain": [
       "OnePlus X (Onyx, 16GB)                           52\n",
       "Lenovo Vibe K5 (Silver, 16GB)                    52\n",
       "OnePlus 3T (Soft Gold, 6GB RAM + 64GB memory)    53\n",
       "Motorola Moto G, 4th Gen (Black, 2 GB, 16 GB)    55\n",
       "YU Yuphoria YU5010A (Black+Silver)               57\n",
       "Name: product, dtype: int64"
      ]
     },
     "execution_count": 37,
     "metadata": {},
     "output_type": "execute_result"
    }
   ],
   "source": [
    "# selecting products which had atleast 50 reviews.\n",
    "\n",
    "countsp=pd.value_counts(df_sample['product'])\n",
    "\n",
    "df_sample=df_sample[ df_sample['product'].isin(countsp[countsp>50].index)]\n",
    "#checking minimum product count\n",
    "df_sample['product'].value_counts(ascending=True)[:5] "
   ]
  },
  {
   "cell_type": "code",
   "execution_count": 38,
   "id": "5f0084f5",
   "metadata": {},
   "outputs": [
    {
     "data": {
      "text/plain": [
       "(1381, 4)"
      ]
     },
     "execution_count": 38,
     "metadata": {},
     "output_type": "execute_result"
    }
   ],
   "source": [
    "df_sample.shape"
   ]
  },
  {
   "cell_type": "code",
   "execution_count": 39,
   "id": "b8f55041",
   "metadata": {},
   "outputs": [
    {
     "data": {
      "text/plain": [
       "<AxesSubplot:xlabel='score', ylabel='Density'>"
      ]
     },
     "execution_count": 39,
     "metadata": {},
     "output_type": "execute_result"
    },
    {
     "data": {
      "image/png": "[encoded data removed]",
      "text/plain": [
       "<Figure size 1080x576 with 2 Axes>"
      ]
     },
     "metadata": {
      "needs_background": "light"
     },
     "output_type": "display_data"
    },
    {
     "name": "stdout",
     "output_type": "stream",
     "text": [
      "score   -0.762152\n",
      "dtype: float64\n"
     ]
    }
   ],
   "source": [
    "fig,ax=plt.subplots(1,2,figsize=(15,8))\n",
    "sns.distplot(df_sample['score'],ax=ax[0],kde=True,hist=False)\n",
    "plt.show()\n",
    "print(df_sample.skew())"
   ]
  },
  {
   "cell_type": "code",
   "execution_count": null,
   "id": "adb32083",
   "metadata": {},
   "outputs": [],
   "source": []
  },
  {
   "cell_type": "code",
   "execution_count": null,
   "id": "dd8e86cd",
   "metadata": {},
   "outputs": [],
   "source": []
  },
  {
   "cell_type": "markdown",
   "id": "c722eba6",
   "metadata": {},
   "source": [
    "# Build a popularity based model and recommend top 5 mobile phones. "
   ]
  },
  {
   "cell_type": "code",
   "execution_count": 40,
   "id": "93004748",
   "metadata": {},
   "outputs": [
    {
     "data": {
      "text/plain": [
       "product\n",
       "Samsung Galaxy S7 edge Smartphone, 13,9 cm (5,5 Zoll) Display, LTE (4G)    9.641791\n",
       "OnePlus 3T (Gunmetal, 6GB RAM + 64GB memory)                               8.393939\n",
       "OnePlus 3T (Soft Gold, 6GB RAM + 64GB memory)                              8.226415\n",
       "OnePlus 3 (Soft Gold, 64 GB)                                               8.156522\n",
       "OnePlus 3 (Graphite, 64 GB)                                                8.083916\n",
       "Name: score, dtype: float64"
      ]
     },
     "execution_count": 40,
     "metadata": {},
     "output_type": "execute_result"
    }
   ],
   "source": [
    "df_sample.groupby('product')['score'].mean().sort_values(ascending=False)[:5]"
   ]
  },
  {
   "cell_type": "code",
   "execution_count": 41,
   "id": "0190c20b",
   "metadata": {},
   "outputs": [],
   "source": [
    "product_grp=df.groupby(['product'])\n",
    "ratings=pd.DataFrame(product_grp['score'].min())\n",
    "ratings.rename({'score':'min_ratings'},axis=1,inplace=True)\n",
    "ratings['max_ratings']=product_grp['score'].max()\n",
    "ratings['num_ratings']=product_grp['score'].count()\n",
    "ratings['mean_ratings']=product_grp['score'].mean()"
   ]
  },
  {
   "cell_type": "code",
   "execution_count": 42,
   "id": "f8fca896",
   "metadata": {},
   "outputs": [],
   "source": [
    "df_ratings=ratings.reset_index()"
   ]
  },
  {
   "cell_type": "code",
   "execution_count": 43,
   "id": "c22da800",
   "metadata": {},
   "outputs": [
    {
     "name": "stdout",
     "output_type": "stream",
     "text": [
      "Top 10 popular Products by number of purchases\n"
     ]
    },
    {
     "data": {
      "text/plain": [
       "23698                Lenovo Vibe K4 Note (White,16GB)\n",
       "23697               Lenovo Vibe K4 Note (Black, 16GB)\n",
       "34801                     OnePlus 3 (Graphite, 64 GB)\n",
       "34802                    OnePlus 3 (Soft Gold, 64 GB)\n",
       "41043                    Samsung Galaxy Express I8730\n",
       "23701             Lenovo Vibe K5 (Gold, VoLTE update)\n",
       "23703             Lenovo Vibe K5 (Grey, VoLTE update)\n",
       "30658                          Nokia 5800 XpressMusic\n",
       "33959                                       Nokia N95\n",
       "23662    Lenovo Used Lenovo Zuk Z1 (Space Grey, 64GB)\n",
       "Name: product, dtype: object"
      ]
     },
     "metadata": {},
     "output_type": "display_data"
    },
    {
     "name": "stdout",
     "output_type": "stream",
     "text": [
      "\n",
      "\n",
      "Top 10 popular Products with best ratings\n"
     ]
    },
    {
     "data": {
      "text/plain": [
       "27907    Motorola Smartphone Motorola Novo Moto G Dual ...\n",
       "5301                            Apple iPhone 7 4,7\" 256 GB\n",
       "60304    Ð¡Ð¾ÑÐ¾Ð²ÑÐ¹ ÑÐµÐ»ÐµÑÐ¾Ð½ ASUS ZenFone 2 D...\n",
       "45119                       Samsung Galaxy S8+ 64GB (AT&T)\n",
       "4978                           Apple iPhone 6s 4,7\" 128 GB\n",
       "41748                                    Samsung Galaxy J7\n",
       "42540    Samsung Galaxy Note II, GT-N7100, Grigio Titan...\n",
       "27893    Motorola Smartphone Motorola Moto G Colors Edi...\n",
       "8195     BlackBerry Passport Smartphone (11,4 cm (4,5 Z...\n",
       "42533    Samsung Galaxy Note II N7100 Smartphone, 16GB,...\n",
       "Name: product, dtype: object"
      ]
     },
     "metadata": {},
     "output_type": "display_data"
    }
   ],
   "source": [
    "#Data with ratings count more than 50\n",
    "df_ratings=df_ratings[(df_ratings['min_ratings']!=df_ratings['max_ratings']) & (df_ratings['num_ratings']>50)]\n",
    "\n",
    "print(\"Top 10 popular Products by number of purchases\")\n",
    "num_purchases=df_ratings.sort_values(ascending=False,by='num_ratings')\n",
    "\n",
    "display(num_purchases['product'].head(10))\n",
    "print(\"\\n\")\n",
    "print(\"Top 10 popular Products with best ratings\")\n",
    "\n",
    "rates=df_ratings.sort_values(ascending=False,by='mean_ratings')\n",
    "\n",
    "display(rates['product'].head(10))"
   ]
  },
  {
   "cell_type": "markdown",
   "id": "1eca407c",
   "metadata": {},
   "source": [
    " # Select the data with products having more than 50 ratings and users who have given more than 50 ratings. Report the shape of the final dataset."
   ]
  },
  {
   "cell_type": "code",
   "execution_count": 44,
   "id": "df5da05a",
   "metadata": {},
   "outputs": [
    {
     "data": {
      "text/html": [
       "<div>\n",
       "<style scoped>\n",
       "    .dataframe tbody tr th:only-of-type {\n",
       "        vertical-align: middle;\n",
       "    }\n",
       "\n",
       "    .dataframe tbody tr th {\n",
       "        vertical-align: top;\n",
       "    }\n",
       "\n",
       "    .dataframe thead th {\n",
       "        text-align: right;\n",
       "    }\n",
       "</style>\n",
       "<table border=\"1\" class=\"dataframe\">\n",
       "  <thead>\n",
       "    <tr style=\"text-align: right;\">\n",
       "      <th></th>\n",
       "      <th></th>\n",
       "      <th>num_ratings</th>\n",
       "    </tr>\n",
       "    <tr>\n",
       "      <th>product</th>\n",
       "      <th>author</th>\n",
       "      <th></th>\n",
       "    </tr>\n",
       "  </thead>\n",
       "  <tbody>\n",
       "    <tr>\n",
       "      <th>Lenovo Vibe K4 Note (White,16GB)</th>\n",
       "      <th>Amazon Customer</th>\n",
       "      <td>3064</td>\n",
       "    </tr>\n",
       "    <tr>\n",
       "      <th>Lenovo Vibe K4 Note (Black, 16GB)</th>\n",
       "      <th>Amazon Customer</th>\n",
       "      <td>2524</td>\n",
       "    </tr>\n",
       "    <tr>\n",
       "      <th>OnePlus 3 (Graphite, 64 GB)</th>\n",
       "      <th>Amazon Customer</th>\n",
       "      <td>1827</td>\n",
       "    </tr>\n",
       "    <tr>\n",
       "      <th>OnePlus 3 (Soft Gold, 64 GB)</th>\n",
       "      <th>Amazon Customer</th>\n",
       "      <td>1719</td>\n",
       "    </tr>\n",
       "    <tr>\n",
       "      <th>Lenovo Vibe K5 (Gold, VoLTE update)</th>\n",
       "      <th>Amazon Customer</th>\n",
       "      <td>1562</td>\n",
       "    </tr>\n",
       "    <tr>\n",
       "      <th>...</th>\n",
       "      <th>...</th>\n",
       "      <td>...</td>\n",
       "    </tr>\n",
       "    <tr>\n",
       "      <th>Motorola RAZR V3i</th>\n",
       "      <th>Amazon Customer</th>\n",
       "      <td>51</td>\n",
       "    </tr>\n",
       "    <tr>\n",
       "      <th>Sony Ericsson Xperia X1</th>\n",
       "      <th>Amazon Customer</th>\n",
       "      <td>51</td>\n",
       "    </tr>\n",
       "    <tr>\n",
       "      <th>Nokia Lumia 925</th>\n",
       "      <th>Amazon Customer</th>\n",
       "      <td>51</td>\n",
       "    </tr>\n",
       "    <tr>\n",
       "      <th>HTC One mini</th>\n",
       "      <th>Amazon Customer</th>\n",
       "      <td>51</td>\n",
       "    </tr>\n",
       "    <tr>\n",
       "      <th>Sony Ericsson X10 mini</th>\n",
       "      <th>Amazon Customer</th>\n",
       "      <td>51</td>\n",
       "    </tr>\n",
       "  </tbody>\n",
       "</table>\n",
       "<p>573 rows × 1 columns</p>\n",
       "</div>"
      ],
      "text/plain": [
       "                                                     num_ratings\n",
       "product                             author                      \n",
       "Lenovo Vibe K4 Note (White,16GB)    Amazon Customer         3064\n",
       "Lenovo Vibe K4 Note (Black, 16GB)   Amazon Customer         2524\n",
       "OnePlus 3 (Graphite, 64 GB)         Amazon Customer         1827\n",
       "OnePlus 3 (Soft Gold, 64 GB)        Amazon Customer         1719\n",
       "Lenovo Vibe K5 (Gold, VoLTE update) Amazon Customer         1562\n",
       "...                                                          ...\n",
       "Motorola RAZR V3i                   Amazon Customer           51\n",
       "Sony Ericsson Xperia X1             Amazon Customer           51\n",
       "Nokia Lumia 925                     Amazon Customer           51\n",
       "HTC One mini                        Amazon Customer           51\n",
       "Sony Ericsson X10 mini              Amazon Customer           51\n",
       "\n",
       "[573 rows x 1 columns]"
      ]
     },
     "execution_count": 44,
     "metadata": {},
     "output_type": "execute_result"
    },
    {
     "name": "stdout",
     "output_type": "stream",
     "text": [
      "Number of products having more than 50 ratings and users who have given more than 50 ratings is 573\n"
     ]
    },
    {
     "data": {
      "text/html": [
       "<div>\n",
       "<style scoped>\n",
       "    .dataframe tbody tr th:only-of-type {\n",
       "        vertical-align: middle;\n",
       "    }\n",
       "\n",
       "    .dataframe tbody tr th {\n",
       "        vertical-align: top;\n",
       "    }\n",
       "\n",
       "    .dataframe thead th {\n",
       "        text-align: right;\n",
       "    }\n",
       "</style>\n",
       "<table border=\"1\" class=\"dataframe\">\n",
       "  <thead>\n",
       "    <tr style=\"text-align: right;\">\n",
       "      <th></th>\n",
       "      <th></th>\n",
       "      <th>num_ratings</th>\n",
       "    </tr>\n",
       "    <tr>\n",
       "      <th>product</th>\n",
       "      <th>author</th>\n",
       "      <th></th>\n",
       "    </tr>\n",
       "  </thead>\n",
       "  <tbody>\n",
       "    <tr>\n",
       "      <th>Lenovo Vibe K4 Note (White,16GB)</th>\n",
       "      <th>Amazon Customer</th>\n",
       "      <td>3064</td>\n",
       "    </tr>\n",
       "    <tr>\n",
       "      <th>Lenovo Vibe K4 Note (Black, 16GB)</th>\n",
       "      <th>Amazon Customer</th>\n",
       "      <td>2524</td>\n",
       "    </tr>\n",
       "    <tr>\n",
       "      <th>OnePlus 3 (Graphite, 64 GB)</th>\n",
       "      <th>Amazon Customer</th>\n",
       "      <td>1827</td>\n",
       "    </tr>\n",
       "    <tr>\n",
       "      <th>OnePlus 3 (Soft Gold, 64 GB)</th>\n",
       "      <th>Amazon Customer</th>\n",
       "      <td>1719</td>\n",
       "    </tr>\n",
       "    <tr>\n",
       "      <th>Lenovo Vibe K5 (Gold, VoLTE update)</th>\n",
       "      <th>Amazon Customer</th>\n",
       "      <td>1562</td>\n",
       "    </tr>\n",
       "    <tr>\n",
       "      <th>Lenovo Vibe K5 (Grey, VoLTE update)</th>\n",
       "      <th>Amazon Customer</th>\n",
       "      <td>1369</td>\n",
       "    </tr>\n",
       "    <tr>\n",
       "      <th>Lenovo Used Lenovo Zuk Z1 (Space Grey, 64GB)</th>\n",
       "      <th>Amazon Customer</th>\n",
       "      <td>1156</td>\n",
       "    </tr>\n",
       "    <tr>\n",
       "      <th>Lenovo Vibe K5 (Silver, 16GB)</th>\n",
       "      <th>Amazon Customer</th>\n",
       "      <td>883</td>\n",
       "    </tr>\n",
       "    <tr>\n",
       "      <th>YU Yuphoria YU5010A (Black+Silver)</th>\n",
       "      <th>Amazon Customer</th>\n",
       "      <td>883</td>\n",
       "    </tr>\n",
       "    <tr>\n",
       "      <th>OnePlus 3T (Gunmetal, 6GB RAM + 64GB memory)</th>\n",
       "      <th>Amazon Customer</th>\n",
       "      <td>844</td>\n",
       "    </tr>\n",
       "  </tbody>\n",
       "</table>\n",
       "</div>"
      ],
      "text/plain": [
       "                                                              num_ratings\n",
       "product                                      author                      \n",
       "Lenovo Vibe K4 Note (White,16GB)             Amazon Customer         3064\n",
       "Lenovo Vibe K4 Note (Black, 16GB)            Amazon Customer         2524\n",
       "OnePlus 3 (Graphite, 64 GB)                  Amazon Customer         1827\n",
       "OnePlus 3 (Soft Gold, 64 GB)                 Amazon Customer         1719\n",
       "Lenovo Vibe K5 (Gold, VoLTE update)          Amazon Customer         1562\n",
       "Lenovo Vibe K5 (Grey, VoLTE update)          Amazon Customer         1369\n",
       "Lenovo Used Lenovo Zuk Z1 (Space Grey, 64GB) Amazon Customer         1156\n",
       "Lenovo Vibe K5 (Silver, 16GB)                Amazon Customer          883\n",
       "YU Yuphoria YU5010A (Black+Silver)           Amazon Customer          883\n",
       "OnePlus 3T (Gunmetal, 6GB RAM + 64GB memory) Amazon Customer          844"
      ]
     },
     "metadata": {},
     "output_type": "display_data"
    }
   ],
   "source": [
    "product_users=df.groupby(['product','author'])\n",
    "top_50=pd.DataFrame(product_users['score'].count())\n",
    "\n",
    "#renaming column for better understanding\n",
    "top_50.rename({'score':'num_ratings'},axis=1,inplace=True)\n",
    "\n",
    "top_50[top_50['num_ratings']>50].sort_values(by='num_ratings',ascending=False)\n",
    "print(f\"Number of products having more than 50 ratings and users who have given more than 50 ratings is {top_50[top_50['num_ratings']>50].shape[0]}\")\n",
    "display(top_50[top_50['num_ratings']>50].sort_values(by='num_ratings',ascending=False).head(10))"
   ]
  },
  {
   "cell_type": "markdown",
   "id": "24a34274",
   "metadata": {},
   "source": [
    "# Identify the most rated features."
   ]
  },
  {
   "cell_type": "code",
   "execution_count": 45,
   "id": "365adcbe",
   "metadata": {},
   "outputs": [
    {
     "data": {
      "text/html": [
       "<div>\n",
       "<style scoped>\n",
       "    .dataframe tbody tr th:only-of-type {\n",
       "        vertical-align: middle;\n",
       "    }\n",
       "\n",
       "    .dataframe tbody tr th {\n",
       "        vertical-align: top;\n",
       "    }\n",
       "\n",
       "    .dataframe thead th {\n",
       "        text-align: right;\n",
       "    }\n",
       "</style>\n",
       "<table border=\"1\" class=\"dataframe\">\n",
       "  <thead>\n",
       "    <tr style=\"text-align: right;\">\n",
       "      <th></th>\n",
       "      <th>score</th>\n",
       "      <th>rating_counts</th>\n",
       "    </tr>\n",
       "    <tr>\n",
       "      <th>extract</th>\n",
       "      <th></th>\n",
       "      <th></th>\n",
       "    </tr>\n",
       "  </thead>\n",
       "  <tbody>\n",
       "    <tr>\n",
       "      <th>#NAME?</th>\n",
       "      <td>17798</td>\n",
       "      <td>17798</td>\n",
       "    </tr>\n",
       "    <tr>\n",
       "      <th>Excellent product</th>\n",
       "      <td>276</td>\n",
       "      <td>276</td>\n",
       "    </tr>\n",
       "    <tr>\n",
       "      <th>Very good product</th>\n",
       "      <td>152</td>\n",
       "      <td>152</td>\n",
       "    </tr>\n",
       "    <tr>\n",
       "      <th>Excelente producto</th>\n",
       "      <td>119</td>\n",
       "      <td>119</td>\n",
       "    </tr>\n",
       "    <tr>\n",
       "      <th>very good product</th>\n",
       "      <td>98</td>\n",
       "      <td>98</td>\n",
       "    </tr>\n",
       "  </tbody>\n",
       "</table>\n",
       "</div>"
      ],
      "text/plain": [
       "                    score  rating_counts\n",
       "extract                                 \n",
       "#NAME?              17798          17798\n",
       "Excellent product     276            276\n",
       "Very good product     152            152\n",
       "Excelente producto    119            119\n",
       "very good product      98             98"
      ]
     },
     "execution_count": 45,
     "metadata": {},
     "output_type": "execute_result"
    }
   ],
   "source": [
    "ratings_mean_count = pd.DataFrame(df.groupby('extract')['score'].count().sort_values(ascending=False)) \n",
    "ratings_mean_count['rating_counts'] = pd.DataFrame(df.groupby('extract')['score'].count().sort_values(ascending=False))  \n",
    "ratings_mean_count.head(5) "
   ]
  },
  {
   "cell_type": "markdown",
   "id": "54527d1d",
   "metadata": {},
   "source": [
    "# Identify the users with most number of reviews."
   ]
  },
  {
   "cell_type": "code",
   "execution_count": 46,
   "id": "17564b41",
   "metadata": {},
   "outputs": [
    {
     "data": {
      "text/html": [
       "<div>\n",
       "<style scoped>\n",
       "    .dataframe tbody tr th:only-of-type {\n",
       "        vertical-align: middle;\n",
       "    }\n",
       "\n",
       "    .dataframe tbody tr th {\n",
       "        vertical-align: top;\n",
       "    }\n",
       "\n",
       "    .dataframe thead th {\n",
       "        text-align: right;\n",
       "    }\n",
       "</style>\n",
       "<table border=\"1\" class=\"dataframe\">\n",
       "  <thead>\n",
       "    <tr style=\"text-align: right;\">\n",
       "      <th></th>\n",
       "      <th>number_of_ratings</th>\n",
       "    </tr>\n",
       "    <tr>\n",
       "      <th>author</th>\n",
       "      <th></th>\n",
       "    </tr>\n",
       "  </thead>\n",
       "  <tbody>\n",
       "    <tr>\n",
       "      <th>Amazon Customer</th>\n",
       "      <td>136181</td>\n",
       "    </tr>\n",
       "    <tr>\n",
       "      <th>Cliente Amazon</th>\n",
       "      <td>19296</td>\n",
       "    </tr>\n",
       "    <tr>\n",
       "      <th>e-bit</th>\n",
       "      <td>8328</td>\n",
       "    </tr>\n",
       "    <tr>\n",
       "      <th>Client d'Amazon</th>\n",
       "      <td>7714</td>\n",
       "    </tr>\n",
       "    <tr>\n",
       "      <th>Amazon Kunde</th>\n",
       "      <td>4741</td>\n",
       "    </tr>\n",
       "    <tr>\n",
       "      <th>Anonymous</th>\n",
       "      <td>2719</td>\n",
       "    </tr>\n",
       "    <tr>\n",
       "      <th>einer Kundin</th>\n",
       "      <td>2605</td>\n",
       "    </tr>\n",
       "    <tr>\n",
       "      <th>einem Kunden</th>\n",
       "      <td>1889</td>\n",
       "    </tr>\n",
       "    <tr>\n",
       "      <th>unknown</th>\n",
       "      <td>1727</td>\n",
       "    </tr>\n",
       "    <tr>\n",
       "      <th>Anonymous</th>\n",
       "      <td>1405</td>\n",
       "    </tr>\n",
       "  </tbody>\n",
       "</table>\n",
       "</div>"
      ],
      "text/plain": [
       "                 number_of_ratings\n",
       "author                            \n",
       "Amazon Customer             136181\n",
       "Cliente Amazon               19296\n",
       "e-bit                         8328\n",
       "Client d'Amazon               7714\n",
       "Amazon Kunde                  4741\n",
       "Anonymous                     2719\n",
       "einer Kundin                  2605\n",
       "einem Kunden                  1889\n",
       "unknown                       1727\n",
       "Anonymous                     1405"
      ]
     },
     "execution_count": 46,
     "metadata": {},
     "output_type": "execute_result"
    }
   ],
   "source": [
    "users = pd.DataFrame(df.groupby('author')['score'].count().sort_values(ascending=False)) \n",
    "users.rename({'score':'number_of_ratings'},axis=1,inplace=True)\n",
    "users.head(10)"
   ]
  },
  {
   "cell_type": "markdown",
   "id": "5dd8e2dd",
   "metadata": {},
   "source": [
    "# Splitting Dataframe into testing,training set\n"
   ]
  },
  {
   "cell_type": "code",
   "execution_count": 47,
   "id": "b0fdbf33",
   "metadata": {},
   "outputs": [
    {
     "data": {
      "text/html": [
       "<div>\n",
       "<style scoped>\n",
       "    .dataframe tbody tr th:only-of-type {\n",
       "        vertical-align: middle;\n",
       "    }\n",
       "\n",
       "    .dataframe tbody tr th {\n",
       "        vertical-align: top;\n",
       "    }\n",
       "\n",
       "    .dataframe thead th {\n",
       "        text-align: right;\n",
       "    }\n",
       "</style>\n",
       "<table border=\"1\" class=\"dataframe\">\n",
       "  <thead>\n",
       "    <tr style=\"text-align: right;\">\n",
       "      <th></th>\n",
       "      <th>itemID</th>\n",
       "      <th>userID</th>\n",
       "      <th>rating</th>\n",
       "    </tr>\n",
       "  </thead>\n",
       "  <tbody>\n",
       "    <tr>\n",
       "      <th>0</th>\n",
       "      <td>Sony Xperia Z5 compact (white)</td>\n",
       "      <td>Zarani</td>\n",
       "      <td>10.0</td>\n",
       "    </tr>\n",
       "    <tr>\n",
       "      <th>1</th>\n",
       "      <td>Microsoft Nokia 2730 classic Handy (MP3, UMTS,...</td>\n",
       "      <td>Tanzmaus</td>\n",
       "      <td>6.0</td>\n",
       "    </tr>\n",
       "    <tr>\n",
       "      <th>2</th>\n",
       "      <td>Samsung Galaxy Note 3 zwart / 32 GB - Overzicht</td>\n",
       "      <td>HTL</td>\n",
       "      <td>10.0</td>\n",
       "    </tr>\n",
       "    <tr>\n",
       "      <th>3</th>\n",
       "      <td>BlackBerry Torch 9810 Unlocked Touchscreen Sma...</td>\n",
       "      <td>Nii Bi Amuchebi</td>\n",
       "      <td>10.0</td>\n",
       "    </tr>\n",
       "    <tr>\n",
       "      <th>4</th>\n",
       "      <td>Nokia 808 PureView</td>\n",
       "      <td>Dimati Yura</td>\n",
       "      <td>10.0</td>\n",
       "    </tr>\n",
       "  </tbody>\n",
       "</table>\n",
       "</div>"
      ],
      "text/plain": [
       "                                              itemID           userID  rating\n",
       "0                     Sony Xperia Z5 compact (white)           Zarani    10.0\n",
       "1  Microsoft Nokia 2730 classic Handy (MP3, UMTS,...         Tanzmaus     6.0\n",
       "2    Samsung Galaxy Note 3 zwart / 32 GB - Overzicht              HTL    10.0\n",
       "3  BlackBerry Torch 9810 Unlocked Touchscreen Sma...  Nii Bi Amuchebi    10.0\n",
       "4                                 Nokia 808 PureView      Dimati Yura    10.0"
      ]
     },
     "metadata": {},
     "output_type": "display_data"
    }
   ],
   "source": [
    "#Reducing samples to 5k\n",
    "df=df.sample(random_state=500,n=5000)\n",
    "\n",
    "#Creating a user defined dataset\n",
    "\n",
    "itemID=df['product'].values.tolist()\n",
    "userID=df['author'].values.tolist()\n",
    "rating=df['score'].values.tolist()\n",
    "ratings_dict = {'itemID': itemID,\n",
    "                'userID': userID,\n",
    "                'rating': rating}\n",
    "rating = pd.DataFrame(ratings_dict)\n",
    "\n",
    "display(rating.head())\n",
    "\n",
    "#Reader to read the ratings on rating_scale param scale from min to max rating\n",
    "reader = Reader(rating_scale=(min(rating['rating']), max(rating['rating'])))\n",
    "\n",
    "#loading the dataset \n",
    "data = Dataset.load_from_df(rating[['userID', 'itemID', 'rating']], reader)\n",
    "\n",
    "#Splitting the dataset\n",
    "trainset, testset = train_test_split(data, test_size=.30)"
   ]
  },
  {
   "cell_type": "markdown",
   "id": "84df37a7",
   "metadata": {},
   "source": [
    "# collaborative filtering using item-item and user-user based Recommendation for popular mobile Phones"
   ]
  },
  {
   "cell_type": "code",
   "execution_count": 48,
   "id": "eb42cd3f",
   "metadata": {},
   "outputs": [
    {
     "name": "stdout",
     "output_type": "stream",
     "text": [
      "Computing the cosine similarity matrix...\n",
      "Done computing similarity matrix.\n"
     ]
    },
    {
     "data": {
      "text/plain": [
       "<surprise.prediction_algorithms.knns.KNNWithMeans at 0x1ed18270d90>"
      ]
     },
     "execution_count": 48,
     "metadata": {},
     "output_type": "execute_result"
    },
    {
     "name": "stdout",
     "output_type": "stream",
     "text": [
      "Computing the cosine similarity matrix...\n",
      "Done computing similarity matrix.\n"
     ]
    },
    {
     "data": {
      "text/plain": [
       "<surprise.prediction_algorithms.knns.KNNWithMeans at 0x1ed18270ee0>"
      ]
     },
     "execution_count": 48,
     "metadata": {},
     "output_type": "execute_result"
    }
   ],
   "source": [
    "#Training the user based model based on KNN\n",
    "algo1 = KNNWithMeans(k=50, sim_options={'name': 'cosine', 'user_based': True})\n",
    "algo1.fit(trainset)\n",
    "\n",
    "#Running on the test dataset\n",
    "test_pred1 = algo1.test(testset)\n",
    "\n",
    "\n",
    "#Training the item based model based on KNN\n",
    "algo2 = KNNWithMeans(k=50, sim_options={'name': 'cosine', 'user_based': False})\n",
    "algo2.fit(trainset)\n",
    "\n",
    "#Running on the test dataset\n",
    "test_pred2 = algo2.test(testset)"
   ]
  },
  {
   "cell_type": "markdown",
   "id": "66c716ac",
   "metadata": {},
   "source": [
    "# Collaborative filtering based on SVD\n",
    " Build a collaborative filtering model using SVD. You can use SVD from surprise or build it from scratch(Note: Incase you’re building it from scratch you can limit your data points to 5000 samples if you face memory issues). Build a collaborative filtering model using kNNWithMeans from surprise. You can try both user-based and item-based model."
   ]
  },
  {
   "cell_type": "code",
   "execution_count": 49,
   "id": "8886dd7d",
   "metadata": {},
   "outputs": [],
   "source": [
    "df=df.copy(deep=True)\n",
    "df=df.sample(n=5000)\n",
    "item=df['product'].values.tolist()\n",
    "user=df['author'].values.tolist()\n",
    "score=df['score'].values.tolist()\n",
    "score_dict={'score':score,\n",
    "           'item':item,\n",
    "           'user':user}\n",
    "score_df=pd.DataFrame(score_dict)\n",
    "\n",
    "#Reader to read the ratings on rating_scale param scale from min to max rating\n",
    "reader = Reader(rating_scale=(min(score_df['score']), max(score_df['score'])))\n",
    "\n",
    "#loading the dataset \n",
    "data = Dataset.load_from_df(score_df[['user', 'item', 'score']], reader)"
   ]
  },
  {
   "cell_type": "code",
   "execution_count": 50,
   "id": "8f9e1c8f",
   "metadata": {},
   "outputs": [
    {
     "data": {
      "text/plain": [
       "<surprise.prediction_algorithms.matrix_factorization.SVD at 0x1ed182708e0>"
      ]
     },
     "execution_count": 50,
     "metadata": {},
     "output_type": "execute_result"
    }
   ],
   "source": [
    "#getting the training data from the dataset\n",
    "train=data.build_full_trainset()\n",
    "\n",
    "#Fitting the SVD on trainset with best parameters\n",
    "algo3=SVD()\n",
    "\n",
    "algo3.fit(train)\n",
    "\n",
    "#Building testset from the trainset which does not have a rating for the user and item combination.\n",
    "test=train.build_anti_testset()\n",
    "\n",
    "#Make prediction\n",
    "prediction3=algo3.test(test)"
   ]
  },
  {
   "cell_type": "markdown",
   "id": "da08f16d",
   "metadata": {},
   "source": [
    "# Evaluate the collaborative model. Print RMSE value"
   ]
  },
  {
   "cell_type": "code",
   "execution_count": 51,
   "id": "6ee08d0b",
   "metadata": {},
   "outputs": [
    {
     "name": "stdout",
     "output_type": "stream",
     "text": [
      "Average Rating for all of the predicted users :=8.011399999318224\n",
      "RMSE Score for Collaborative model using SVD:=0.3293359046833863\n",
      "Average Rating for all of the predicted users :=8.074666666666667\n",
      "RMSE Score for Collaborative model using item-item based filtering:=0.6619393773487857\n",
      "Average Rating for all of the predicted users :=8.074666666666667\n",
      "RMSE Score for Collaborative model using user-user based filtering:=0.5234144372931288\n"
     ]
    }
   ],
   "source": [
    "#Finding the average rating for the test users\n",
    "def average_rating(dataset):\n",
    "    sum=0\n",
    "    count=0\n",
    "    for i in dataset:\n",
    "        sum+=i.r_ui\n",
    "        count+=1\n",
    "    return(sum/count)\n",
    "\n",
    "#Finding RMSE Score for SVD based Model\n",
    "def score(dataset):\n",
    "    sum=0\n",
    "    count=0\n",
    "    avg_score=average_rating(dataset)\n",
    "    for i in dataset:\n",
    "        diff=0\n",
    "        square=0\n",
    "        estm=i.est\n",
    "        diff=avg_score-estm\n",
    "        square=math.pow(diff,2)\n",
    "        sum+=square\n",
    "        count+=1\n",
    "    print(f\"Average Rating for all of the predicted users :={avg_score}\")\n",
    "    return(math.sqrt(sum/count))\n",
    "print(f\"RMSE Score for Collaborative model using SVD:={score(prediction3)}\")\n",
    "print(f\"RMSE Score for Collaborative model using item-item based filtering:={score(test_pred2)}\")\n",
    "print(f\"RMSE Score for Collaborative model using user-user based filtering:={score(test_pred1)}\")"
   ]
  },
  {
   "cell_type": "code",
   "execution_count": 52,
   "id": "d502365d",
   "metadata": {},
   "outputs": [
    {
     "data": {
      "text/plain": [
       "<surprise.prediction_algorithms.matrix_factorization.SVD at 0x1ed17d86970>"
      ]
     },
     "execution_count": 52,
     "metadata": {},
     "output_type": "execute_result"
    },
    {
     "data": {
      "text/plain": [
       "<surprise.prediction_algorithms.matrix_factorization.SVD at 0x1ed17d86970>"
      ]
     },
     "execution_count": 52,
     "metadata": {},
     "output_type": "execute_result"
    },
    {
     "data": {
      "text/plain": [
       "<surprise.prediction_algorithms.matrix_factorization.SVD at 0x1ed17d86970>"
      ]
     },
     "execution_count": 52,
     "metadata": {},
     "output_type": "execute_result"
    },
    {
     "data": {
      "text/plain": [
       "<surprise.prediction_algorithms.matrix_factorization.SVD at 0x1ed17d86970>"
      ]
     },
     "execution_count": 52,
     "metadata": {},
     "output_type": "execute_result"
    },
    {
     "data": {
      "text/plain": [
       "<surprise.prediction_algorithms.matrix_factorization.SVD at 0x1ed17d86970>"
      ]
     },
     "execution_count": 52,
     "metadata": {},
     "output_type": "execute_result"
    },
    {
     "name": "stdout",
     "output_type": "stream",
     "text": [
      "Average Rating for all of the predicted users :=7.942\n",
      "RMSE Score for Collaborative model using k-fold SVD :=0.46643575658399905\n"
     ]
    }
   ],
   "source": [
    "# Defining Kfold\n",
    "kf=KFold(n_splits=5,shuffle=True)\n",
    "\n",
    "#Declaring SVD algorithm\n",
    "algo4=SVD()\n",
    "\n",
    "#Splitting data into train test\n",
    "for train,test in kf.split(data):\n",
    "    algo4.fit(train)\n",
    "    prediction4=algo4.test(test)\n",
    "print(f\"RMSE Score for Collaborative model using k-fold SVD :={score(prediction4)}\")  "
   ]
  },
  {
   "cell_type": "code",
   "execution_count": 53,
   "id": "f0215069",
   "metadata": {},
   "outputs": [],
   "source": [
    "# Getting top 5 Best mobile recommendation for the users\n",
    "from collections import defaultdict\n",
    "def top_recommendations(prediction,N):\n",
    "    \n",
    "    top_items = defaultdict(list)\n",
    "    for uid,iid,true_r,est,_ in prediction:\n",
    "        top_items[uid].append((iid,est))\n",
    "    \n",
    "    for uid,ratings in top_items.items():\n",
    "        ratings.sort(key= lambda x:x[1],reverse=True)\n",
    "        top_items[uid]=ratings[:N]\n",
    "    return top_items\n",
    "recommendations=top_recommendations(prediction4,5)"
   ]
  },
  {
   "cell_type": "code",
   "execution_count": 54,
   "id": "0047d62e",
   "metadata": {},
   "outputs": [
    {
     "data": {
      "text/plain": [
       "'OnePlus 3 (Graphite, 64 GB)'"
      ]
     },
     "metadata": {},
     "output_type": "display_data"
    },
    {
     "data": {
      "text/plain": [
       "'OnePlus 3T (Gunmetal, 6GB RAM + 64GB memory)'"
      ]
     },
     "metadata": {},
     "output_type": "display_data"
    },
    {
     "data": {
      "text/plain": [
       "'Nokia C3'"
      ]
     },
     "metadata": {},
     "output_type": "display_data"
    },
    {
     "data": {
      "text/plain": [
       "'Apple iPhone 5s (Silver, 16GB)'"
      ]
     },
     "metadata": {},
     "output_type": "display_data"
    },
    {
     "data": {
      "text/plain": [
       "'Apple iPhone 5s (Silver, 16GB)'"
      ]
     },
     "metadata": {},
     "output_type": "display_data"
    }
   ],
   "source": [
    "# Getting top 5 Best mobile recommendation for a specific User \n",
    "def get_products(recommendations,user):\n",
    "    for uid,items in recommendations.items():\n",
    "        if uid=='Amazon Customer':\n",
    "            item_list=items\n",
    "    for product in item_list:\n",
    "        display(product[0])\n",
    "get_products(recommendations,\"carol jones\")    "
   ]
  },
  {
   "cell_type": "markdown",
   "id": "23f79ec2",
   "metadata": {},
   "source": [
    "# In what business scenario you should use popularity based Recommendation Systems ?\n",
    "      Popularity based recommendation system is more useful when the user is new and there is no prior information about the buying habits of the users. So we can show them the most popular products in our store. This would prevent us from cold start issue and atleast a scope getting some idea after the user makes a purchase.\n",
    "      “Improving with use” (retention): One of the core potential benefits of recommendation systems is their ability to continuously calibrate to the preferences of the user. This makes products that become more and more “sticky” in their customer retention as time goes on:You’re much less likely to switch to a Netflix competitor when Netflix has such a wonderful sense of which movies and shows you might want to watch next (i.e. they “know you so well”). Because most of Netflix’s revenues come from a fixed-rate recurring billing model subscription, the company’s biggest ROI “win” with recommendation systems is retention.Improving cart value: A company with an inventory of thousands and thousands of items would be hard pressed to hard-code product suggestions for all of it’s products, and it’s obvious that such static suggestions would quickly be out-of-date or irrelevant for many customers. By using various means of “filtering”, eCommerce giants can find opportune times to suggest (on their site, via email, or though other means) new products that you’re likely to buy.Amazon’s quick delivery and emphasis on customer service has earned them millions of customers. Recommendation engines play a role not only in helping customers find more of what they need (and see Amazon as an authority), but these systems also improve cart value. If Amazon doesn’t have to pay much more for shipping to send you two or three times as many products, their profit margins improve.Improved engagement and delight: Sometimes seeing an ROI doesn’t involve explicitly asking for payment. Many companies use these systems to simply encourage engagement and activity on their product or platform.YouTube has subscription options, but the majority of the firm’s revenues are driven through advertisements placed across its wide array of video properties. The company makes more money when users come back time and time again. YouTube doesn’t optimize for short-term view length, as this might encourage pushy or flashy tactics that wouldn’t genuinely delight users. Instead, the service aims to encourage long-term use, because advertising views is the ROI that these systems serve at YouTube. Facebook is another obvious example of a similar application of recommendation engines.It’s also important to note that recommendation systems (a) are likely only to be a fit for companies with enough data and in-house AI talent to use them well, and that (b) many businesses and business models may be better off not using recommendation systems as they are not guaranteed to be a higher yield approach than the alternatives.That being said, there are some sectors (most notably digital media, eCommerce) where such systems seem to be borderline inevitable.Recommendation Engine / Recommendation System Fundamental Terms Recommendation systems are important and valuable tools for companies like Amazon and Netflix, who are both known for their personalized customer experiences. Each of these companies collects and analyzes demographic data from customers and adds it to information from previous purchases, product ratings, and user behavior.These details are then used to predict how customers will rate sets of related products, or how likely a customer is to buy an additional product.\n",
    "      \n",
    "      \n",
    "      \n",
    "    \n",
    "    \n",
    "      \n",
    "      \n",
    "\n",
    "# In what business scenario you should use CF based Recommendation Systems ?\n",
    "     Colloborative filtering recommendation would be used when theuser has atleast a profile and he has some prior history of some products and has rated some of the products and/or there are users who are similar to this target user and has similar taste of products thereby facilitating us to make a common recommendation to these both users.Collaborative filtering (CF)-based recommendation techniques help people to make choices based on the opinions of other people who share similar interests. The CF technique can be divided into user-based and item-based CF approaches. In the user-based CF approach, a user will receive recommendations of items liked by similar users.\n",
    "     It’s easy to come up with a function for non-personalized collaborative filtering (i.e we don’t consider active user’s likes, dislikes and rating from the past) that returns a score taking user u and item i as the input parameters. The function outputs a score that quantifies how strongly does a user u likes/prefers item i.So this is usually done using the ratings of other people similar to the user. This all would be discussed in detail later. For now the formula I have used is,score functionWhere ‘s’ is the predicted score, ‘u’ is the user, ‘i’ is the item, ‘r’ is the rating given by the user and ‘w’ is the weight.In this case our score is equal to the sum of the ratings that each user gave to that item subtracting the average rating of that user multiplied with some weight which is of how much this user is similar or supposed to contribute to the predictions of other user. This is weight between user u and v. The score ranges between 0 to 1 where 0 is low and 1 is high. Everything looks perfect, then why did we subtract the average ratings from each users rating and why did we use weighted average instead of simple mean?The problem is with the types of users we are handling. It starts with the fact that people rate often on very different scales. I may be positive and optimistic user where I will rate the movie I liked as 4 out of 5 but some other user who is less optimistic or has some high standards may rate his favorite movie as 2 out of 5. Here his 2 is my 4. The tweaks to make it better is, we can increase the efficiency of this algorithm if we normalize user’s rating. One way to do that is to say we are going to compute s(u,i) i.e score as the average rating that user gives to each item plus some deviation and the deviation is going to be how much this item is better or worse than average.I have used the cosine similarity to calculate the weight given in the above formula. I have also used the notion of neighborhood which would be discussed in this blog as we move on.To normalize the data in the above manner, some data analysis is required in pandas. You can get whole code at the end. For the blog, i will focus on the important concepts.\n",
    "     \n",
    "     \n",
    "     \n",
    "     \n",
    "     \n",
    "     \n",
    "\n",
    "#  What other possible methods can you think of which can further improve the recommendation for different users ?\n",
    "     The other possible wIn what business scenario you should use popularity based Recommendation Systems ?\n",
    "     Popularity based recommendation system is more useful when the user is new and there is no prior information about the buying habits of the users. So we can show them the most popular products in our store. This would prevent us from cold start issue and atleast a scope getting some idea after the user makes a purchase.\n",
    "\n",
    "\n",
    "# What other possible methods can you think of which can further improve the recommendation for different users ?\n",
    "     The other possible way is to use either of the following approaches.\n",
    "\n",
    "Use a combination of Popularity based algorithm and CF based method.\n",
    "Getting the contents that are explcitly selected by the user and when a profile is made for the user make a colloborative approach to find similar users and recommend the products shared by both the users forming a unique combination.\n",
    "Based on the frequent trend in buying pattern of the user try and recommend the Similar products based on the market basket approach thereby increasing the sale of the main product aswell as the other item in combination.\n",
    "\n",
    "\n",
    "\n",
    "# Improvements and Recommendations\n",
    "As evident from the dataset there is much anamoly/irregularity with respect to the Users,Description/Reviews about the product and the Similar variant of the Product forming a repetative combination was found that certainly led to the decrease in the model performance.\n",
    "There are a large number of users which are named as Anonymous or termed as Customer of the site the purchase made. It could be further analysed and asked for more refinemenet to make a better understanding.\n",
    "There should be a provision of the Country, Company attribute which would help in making a broader classification of the clusters for the products\n",
    "ay is to use either of the following approaches.\n",
    "\n",
    "Use a combination of Popularity based algorithm and CF based method.\n",
    "Getting the contents that are explcitly selected by the user and when a profile is made for the user make a colloborative approach to find similar users and recommend the products shared by both the users forming a unique combination.\n",
    "Based on the frequent trend in buying pattern of the user try and recommend the Similar products based on the market basket approach thereby increasing the sale of the main product aswell as the other item in combination.\n",
    "Improvements and Recommendations\n",
    "As evident from the dataset there is much anamoly/irregularity with respect to the Users,Description/Reviews about the product and the Similar variant of the Product forming a repetative combination was found that certainly led to the decrease in the model performance.\n",
    "There are a large number of users which are named as Anonymous or termed as Customer of the site the purchase made. It could be further analysed and asked for more refinemenet to make a better understanding.\n",
    "There should be a provision of the Country, Company attribute which would help in making a broader classification of the clusters for the products"
   ]
  },
  {
   "cell_type": "code",
   "execution_count": null,
   "id": "22f3e8e6",
   "metadata": {},
   "outputs": [],
   "source": []
  }
 ],
 "metadata": {
  "kernelspec": {
   "display_name": "Python 3",
   "language": "python",
   "name": "python3"
  },
  "language_info": {
   "codemirror_mode": {
    "name": "ipython",
    "version": 3
   },
   "file_extension": ".py",
   "mimetype": "text/x-python",
   "name": "python",
   "nbconvert_exporter": "python",
   "pygments_lexer": "ipython3",
   "version": "3.8.8"
  }
 },
 "nbformat": 4,
 "nbformat_minor": 5
}
